{
  "nbformat": 4,
  "nbformat_minor": 0,
  "metadata": {
    "colab": {
      "name": "The Minimum-Variance Estimator",
      "provenance": [],
      "collapsed_sections": [
        "gsD2f23mJ0aH",
        "hFyyHlpDKREP"
      ],
      "include_colab_link": true
    },
    "kernelspec": {
      "name": "python3",
      "display_name": "Python 3"
    }
  },
  "cells": [
    {
      "cell_type": "markdown",
      "metadata": {
        "id": "view-in-github",
        "colab_type": "text"
      },
      "source": [
        "<a href=\"https://colab.research.google.com/github/dlsun/Stat425F19/blob/master/The_Minimum_Variance_Estimator.ipynb\" target=\"_parent\"><img src=\"https://colab.research.google.com/assets/colab-badge.svg\" alt=\"Open In Colab\"/></a>"
      ]
    },
    {
      "cell_type": "code",
      "metadata": {
        "id": "A8aRgcJUNBJ7",
        "colab_type": "code",
        "colab": {},
        "cellView": "form"
      },
      "source": [
        "#@title Import Symbulate\n",
        "!pip install -q symbulate\n",
        "from symbulate import *"
      ],
      "execution_count": 0,
      "outputs": []
    },
    {
      "cell_type": "markdown",
      "metadata": {
        "id": "gsD2f23mJ0aH",
        "colab_type": "text"
      },
      "source": [
        "# The Minimum-Variance Estimator\n",
        "\n",
        "Suppose $X_1, \\ldots, X_n$ are i.i.d. $\\text{Poisson}(\\mu)$.\n",
        "\n",
        "Here are three estimators of $\\mu$:\n",
        "\n",
        "1. MLE: $\\bar X$\n",
        "2. MLE plus noise: $\\bar X + Z$, where $Z \\sim \\text{Normal}(0, 1)$, independent of $X_1, \\ldots, X_n$\n",
        "3. Using one observation only: $X_1$\n",
        "\n",
        "All three estimators are unbiased for $\\mu$. How do we choose between them?"
      ]
    },
    {
      "cell_type": "markdown",
      "metadata": {
        "id": "votUTJVQKSje",
        "colab_type": "text"
      },
      "source": [
        "We can compare the estimators based on their variance.\n",
        "\n",
        "- Estimator 1 has variance $\\mu / n$ (because the variance of a Poisson is $\\mu$).\n",
        "- Estimator 2 has variance $\\mu / n + 1$.\n",
        "- Estimator 3 has variance $\\mu$.\n",
        "\n",
        "Estimator 1 has the smallest variance, no matter the true value of $\\mu$. Therefore, it is the best."
      ]
    },
    {
      "cell_type": "markdown",
      "metadata": {
        "id": "hFyyHlpDKREP",
        "colab_type": "text"
      },
      "source": [
        "# A More Realistic Example\n",
        "\n",
        "Suppose we have $n=10$ i.i.d. observations from a $\\text{Uniform}(\\theta - 1, \\theta + 1)$ distribution, and our goal is to estimate the center $\\theta$.\n",
        "\n",
        "The following estimators are all unbiased for $\\theta$:\n",
        "\n",
        "1. mean\n",
        "2. median\n",
        "3. midrange = (max + min) / 2\n",
        "\n",
        "Which one is best? Let's conduct a simulation study."
      ]
    },
    {
      "cell_type": "code",
      "metadata": {
        "id": "ZYR9uxIVL96g",
        "colab_type": "code",
        "colab": {}
      },
      "source": [
        "# Assume theta = 0\n",
        "theta = 0\n",
        "X = RV(Uniform(theta-1, theta+1) ** 10)\n",
        "\n",
        "def midrange(x):\n",
        "  return 0.5 * (max(x) + min(x))\n",
        "\n",
        "X.sim(10000).apply(mean).plot()\n",
        "X.sim(10000).apply(median).plot()\n",
        "X.sim(10000).apply(midrange).plot()"
      ],
      "execution_count": 0,
      "outputs": []
    }
  ]
}