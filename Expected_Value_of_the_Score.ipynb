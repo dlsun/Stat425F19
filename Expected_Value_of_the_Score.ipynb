{
  "nbformat": 4,
  "nbformat_minor": 0,
  "metadata": {
    "colab": {
      "name": "Expected Value of the Score",
      "provenance": [],
      "collapsed_sections": [
        "NfaJF5nLN35A",
        "Em6cenwAOo4y",
        "VQKF6gkKQT3b"
      ],
      "include_colab_link": true
    },
    "kernelspec": {
      "name": "python3",
      "display_name": "Python 3"
    }
  },
  "cells": [
    {
      "cell_type": "markdown",
      "metadata": {
        "id": "view-in-github",
        "colab_type": "text"
      },
      "source": [
        "<a href=\"https://colab.research.google.com/github/dlsun/Stat425F19/blob/master/Expected_Value_of_the_Score.ipynb\" target=\"_parent\"><img src=\"https://colab.research.google.com/assets/colab-badge.svg\" alt=\"Open In Colab\"/></a>"
      ]
    },
    {
      "cell_type": "markdown",
      "metadata": {
        "id": "hUMRO4PPNn6N",
        "colab_type": "text"
      },
      "source": [
        "# Expected Value of the Score\n",
        "\n",
        "$\n",
        "\\def\\Var{\\text{Var}}\n",
        "\\def\\Cov{\\text{Cov}}\n",
        "$"
      ]
    },
    {
      "cell_type": "markdown",
      "metadata": {
        "id": "NfaJF5nLN35A",
        "colab_type": "text"
      },
      "source": [
        "## Warm-Up 1\n",
        "\n",
        "Suppose that $p_\\theta(x)$ is a p.d.f. for any value of $\\theta$.\n",
        "\n",
        "What is $\\displaystyle \\int_{-\\infty}^\\infty \\frac{\\partial}{\\partial\\theta} p_\\theta(x)\\,dx $?"
      ]
    },
    {
      "cell_type": "markdown",
      "metadata": {
        "id": "4JixzgzVOGa7",
        "colab_type": "text"
      },
      "source": [
        "**Answer** By differentiation under the integral sign, this is equal to \n",
        "\n",
        "$$ \\frac{\\partial}{\\partial\\theta} \\int_{-\\infty}^\\infty p_\\theta(x)\\,dx. $$\n",
        "\n",
        "But the integral of any p.d.f. over all values $x$ is equal to $1$. The derivative of the constant function 1 is 0:\n",
        "\n",
        "$$ \\frac{\\partial}{\\partial\\theta} 1 = 0. $$"
      ]
    },
    {
      "cell_type": "markdown",
      "metadata": {
        "id": "Em6cenwAOo4y",
        "colab_type": "text"
      },
      "source": [
        "## Warm-Up 2\n",
        "\n",
        "Pick your favorite distribution:\n",
        "\n",
        "\\begin{align}\n",
        "\\text{Binomial}(n, \\theta) &: & \\displaystyle p_\\theta(x) &= \\binom{n}{x} \\theta^x (1 - \\theta)^{n-x} \\\\\n",
        "\\text{Poisson}(\\theta) &: & \\displaystyle p_\\theta(x) &= e^{-\\theta} \\frac{\\theta^x}{x!} \\\\\n",
        "\\text{Exponential}(\\theta) &: & \\displaystyle p_\\theta(x) &= \\theta e^{-\\theta x} \\\\\n",
        "\\text{Normal}(\\theta, 1) &: & \\displaystyle p_\\theta(x) &= \\frac{1}{\\sqrt{2\\pi}} e^{-(x-\\theta)^2 / 2}\n",
        "\\end{align}\n",
        "\n",
        "Suppose we observe one observation $X$ from your chosen distribution. Calculate the score $\\ell'(\\theta)$, which should depend on the data $X$. What is $E[\\ell'(\\theta)]$? (Remember that the random variable in this expression is $X$.)"
      ]
    },
    {
      "cell_type": "markdown",
      "metadata": {
        "id": "vLRRqQPyOlwt",
        "colab_type": "text"
      },
      "source": [
        "**Answer**\n",
        "\n",
        "No matter which distribution you picked, you should have found that $E[\\ell'(\\theta)] = 0$.\n",
        "\n",
        "For example, if you picked Poisson, then the log-likelihood is \n",
        "$$ \\ell(\\theta) = -\\theta + X \\log\\theta - X! $$\n",
        "and the score is \n",
        "$$ \\ell'(\\theta) = - 1 + \\frac{X}{\\theta}. $$\n",
        "Taking the expected value, we get \n",
        "$$ E[\\ell'(\\theta)] = -1 + \\frac{E[X]}{\\theta} = - 1 + \\frac{\\theta}{\\theta} = 0. $$\n",
        "\n",
        "On the other hand, if you had picked Exponential, then the log-likelihood is \n",
        "$$ \\ell(\\theta) = \\log \\theta - \\theta X $$\n",
        "and the score is \n",
        "$$ \\ell'(\\theta) = \\frac{1}{\\theta} - X. $$\n",
        "Taking the expected value, we get \n",
        "$$ E[\\ell'(\\theta)] = \\frac{1}{\\theta} - E[X] = \\frac{1}{\\theta} - \\frac{1}{\\theta} = 0. $$"
      ]
    },
    {
      "cell_type": "markdown",
      "metadata": {
        "id": "VQKF6gkKQT3b",
        "colab_type": "text"
      },
      "source": [
        "# Expected Value of the Score"
      ]
    },
    {
      "cell_type": "markdown",
      "metadata": {
        "id": "tBKFXuzoQVts",
        "colab_type": "text"
      },
      "source": [
        "Let's prove that the expected value of the score is always 0.\n",
        "\n",
        "Note that $\\displaystyle\\ell'(\\theta) \\overset{\\text{def}}{=} \\frac{\\partial}{\\partial\\theta} \\log p_\\theta(x) = \\frac{\\frac{\\partial}{\\partial\\theta} p_\\theta(x)}{p_\\theta(x)}$ (using the chain rule). \n",
        "\n",
        "Now we can calculate the expected value of the score using LOTUS:\n",
        "\\begin{align}\n",
        "E[\\ell'(\\theta)] &= \\int_{-\\infty}^\\infty \\ell'(\\theta) p_\\theta(x)\\,dx  \\\\\n",
        "&= \\int_{-\\infty}^\\infty \\frac{\\frac{\\partial}{\\partial\\theta} p_\\theta(x)}{p_\\theta(x)} p_\\theta(x)\\,dx \\\\\n",
        "&= \\int_{-\\infty}^\\infty \\frac{\\partial}{\\partial\\theta} p_\\theta(x)\\,dx & \\text{(cancel out $p_\\theta(x)$}) \\\\\n",
        "&= 0 & \\text{(by Warm-Up 1!)}\n",
        "\\end{align}"
      ]
    },
    {
      "cell_type": "markdown",
      "metadata": {
        "id": "BUGuT70pS0-k",
        "colab_type": "text"
      },
      "source": [
        "Although all of our examples involved a single observation $X$, the conclusions remain true even if we observe multiple observations $\\vec X$."
      ]
    }
  ]
}