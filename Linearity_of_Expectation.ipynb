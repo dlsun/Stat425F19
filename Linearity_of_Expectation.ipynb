{
  "nbformat": 4,
  "nbformat_minor": 0,
  "metadata": {
    "colab": {
      "name": "Linearity of Expectation",
      "provenance": [],
      "collapsed_sections": [
        "SU-XkJ8mAwqd",
        "Alp5h9QLBQMj",
        "YNSxLNFUCFk6",
        "iD12Xh1sC1Ju",
        "Mij232MaDbYm"
      ]
    },
    "kernelspec": {
      "name": "python3",
      "display_name": "Python 3"
    }
  },
  "cells": [
    {
      "cell_type": "code",
      "metadata": {
        "id": "10DTWdl3AmLK",
        "colab_type": "code",
        "cellView": "form",
        "colab": {}
      },
      "source": [
        "#@title Imports\n",
        "!pip install -q symbulate\n",
        "from symbulate import *"
      ],
      "execution_count": 0,
      "outputs": []
    },
    {
      "cell_type": "markdown",
      "metadata": {
        "id": "sjkXMkRRAt_D",
        "colab_type": "text"
      },
      "source": [
        "# Linearity of Expectation"
      ]
    },
    {
      "cell_type": "markdown",
      "metadata": {
        "id": "SU-XkJ8mAwqd",
        "colab_type": "text"
      },
      "source": [
        "## Motivating Example"
      ]
    },
    {
      "cell_type": "markdown",
      "metadata": {
        "id": "ZKI0SYh3AYrA",
        "colab_type": "text"
      },
      "source": [
        "My exams have two sections:\n",
        "\n",
        "- Short Answer (out of 100 points)\n",
        "- Long Answer (out of 50 points)\n",
        "\t\n",
        "Suppose the average score on the short answer is 70 points, and the average on the long answer is 30 points. What is the average score on the exam?\n",
        "\t\n",
        "- Normal way: add up \n",
        "\teach student's short and long answer scores and then average these totals.\n",
        "- But can we just add the averages? That is, \n",
        "\tcan we just say the average will be 70 + 30 = 100?\n"
      ]
    },
    {
      "cell_type": "markdown",
      "metadata": {
        "id": "ybHxODxWA5oB",
        "colab_type": "text"
      },
      "source": [
        "If $(S, L)$ represent the short and long answer scores of each student, we want to know $E[S + L]$.\n",
        "\t\n",
        "In principle, we need 2D LOTUS:\n",
        "$$ E[S + L] = \\sum_s \\sum_\\ell (s + \\ell) p[s, \\ell] $$\n",
        "But notice that we can split the sum into two parts:\n",
        "$$ \\underbrace{\\sum_s \\sum_\\ell s p[s, \\ell]}_{E[S]} + \\underbrace{\\sum_s \\sum_\\ell \\ell p[s, \\ell]}_{E[L]}. $$\n",
        "This is true no matter the joint distribution of $S$ and $L$!"
      ]
    },
    {
      "cell_type": "markdown",
      "metadata": {
        "id": "Alp5h9QLBQMj",
        "colab_type": "text"
      },
      "source": [
        "## Linearity of Expectation\n",
        "\n",
        "$$ E[X + Y] = E[X] + E[Y]. $$"
      ]
    },
    {
      "cell_type": "code",
      "metadata": {
        "id": "9Exo4yOfEwTT",
        "colab_type": "code",
        "colab": {}
      },
      "source": [
        "X, Y = RV(BivariateNormal(mean1=5, mean2=3, corr=0))\n",
        "(X & Y).sim(1000).plot(type=[\"scatter\", \"marginal\"])\n",
        "(X + Y).sim(10000).mean()"
      ],
      "execution_count": 0,
      "outputs": []
    },
    {
      "cell_type": "code",
      "metadata": {
        "id": "43m02uAeE4XH",
        "colab_type": "code",
        "colab": {}
      },
      "source": [
        "X, Y = RV(BivariateNormal(mean1=5, mean2=3, corr=0.7))\n",
        "(X & Y).sim(1000).plot(type=[\"scatter\", \"marginal\"])\n",
        "(X + Y).sim(10000).mean()"
      ],
      "execution_count": 0,
      "outputs": []
    },
    {
      "cell_type": "code",
      "metadata": {
        "id": "TrQxFpv0FVlF",
        "colab_type": "code",
        "colab": {}
      },
      "source": [
        "X, Y = RV(BivariateNormal(mean1=5, mean2=3, corr=-0.7))\n",
        "(X & Y).sim(1000).plot(type=[\"scatter\", \"marginal\"])\n",
        "(X + Y).sim(10000).mean()"
      ],
      "execution_count": 0,
      "outputs": []
    },
    {
      "cell_type": "markdown",
      "metadata": {
        "id": "qArpmwWXBG2w",
        "colab_type": "text"
      },
      "source": [
        "## Examples"
      ]
    },
    {
      "cell_type": "markdown",
      "metadata": {
        "id": "YNSxLNFUCFk6",
        "colab_type": "text"
      },
      "source": [
        "### Example 1. Expected Value of a Binomial\n",
        "\n",
        "If $X \\sim \\textrm{Binomial}(n, N_1, N_0)$, then $E[X] = n \\frac{N_1}{N}$ (by the [formula sheet](https://web.calpoly.edu/~dsun09/tables/distributions.pdf)). But why?"
      ]
    },
    {
      "cell_type": "markdown",
      "metadata": {
        "id": "Tt5tslUaCT53",
        "colab_type": "text"
      },
      "source": [
        "You could try to evaluate\n",
        "$$ E[X] = \\sum_{x=0}^n x p[x] = \\sum_{x=0}^n x \\frac{\\binom{n}{x} N_1^x N_0^{n-x}}{N^n} =... = n\\frac{N_1}{N}.$$\n"
      ]
    },
    {
      "cell_type": "markdown",
      "metadata": {
        "id": "U5FDdbpkCyVg",
        "colab_type": "text"
      },
      "source": [
        "Or you could use linearity. \n",
        "\tLet $Z_i$ be the outcome ($0$ or $1$) of the $i$th draw. Then \n",
        "\t$X = Z_1 + Z_2 + ... + Z_n$.\n",
        "  \n",
        "\\begin{align}\n",
        "E[Z_i] &= \\frac{N_1}{N} & E[X] &= E[Z_1 + ... + Z_n] \\\\\n",
        "& & &= E[Z_1] + ... + E[Z_n] \\\\\n",
        "& & &= \\underbrace{\\frac{N_1}{N} + ... + \\frac{N_1}{N}}_{\\text{$n$ times}} \\\\\n",
        "& & &= n \\frac{N_1}{N}\n",
        "\\end{align}\n",
        "  \n",
        "Because the draws are made with replacement, $Z_1, Z_2, ..., Z_n$ are independent random variables. "
      ]
    },
    {
      "cell_type": "markdown",
      "metadata": {
        "id": "iD12Xh1sC1Ju",
        "colab_type": "text"
      },
      "source": [
        "### Example 2. Expected Value of a Hypergeometric\n",
        "\n",
        "If $X \\sim \\textrm{Hypergeometric}(n, N_1, N_0)$, then $E[X] = n \\frac{N_1}{N}$ (by the [formula sheet](https://web.calpoly.edu/~dsun09/tables/distributions.pdf)). But why?"
      ]
    },
    {
      "cell_type": "markdown",
      "metadata": {
        "id": "cjgYHMDPC6Mu",
        "colab_type": "text"
      },
      "source": [
        "You could try to evaluate\n",
        "$$ E[X] = \\sum_{x=0}^n x p[x] = \\sum_{x=0}^n x \\frac{\\binom{N_1}{x} \\binom{N_0}{n-x}}{\\binom{N}{n}} = ... = n\\frac{N_1}{N}. $$"
      ]
    },
    {
      "cell_type": "markdown",
      "metadata": {
        "id": "x2i3nBpyCECW",
        "colab_type": "text"
      },
      "source": [
        "Or you could use linearity. \n",
        "\tLet $Z_i$ be the outcome ($0$ or $1$) of the $i$th draw. Then \n",
        "\t$X = Z_1 + Z_2 + ... + Z_n$.\n",
        "  \n",
        "\\begin{align}\n",
        "E[Z_i] &= \\frac{N_1}{N} & E[X] &= E[Z_1 + ... + Z_n] \\\\\n",
        "& & &= E[Z_1] + ... + E[Z_n] \\\\\n",
        "& & &= \\underbrace{\\frac{N_1}{N} + ... + \\frac{N_1}{N}}_{\\text{$n$ times}} \\\\\n",
        "& & &= n \\frac{N_1}{N}\n",
        "\\end{align}\n",
        "\n",
        "Since the draws are made without replacement, $Z_1, Z_2, ..., Z_n$ are _not_ independent. However, linearity of expectation holds, regardless of whether $Z_1, Z_2, ..., Z_n$ are independent."
      ]
    },
    {
      "cell_type": "markdown",
      "metadata": {
        "id": "Mij232MaDbYm",
        "colab_type": "text"
      },
      "source": [
        "### Example 3. Coupon Collector Problem\n",
        "\n",
        "McDonald's gives a Pokemon toy with every Happy Meal. Each time you \n",
        "buy a Happy Meal, you are equally likely to get any one of 8 types of Pokemon.\n",
        "\n",
        "On average, how many Happy Meals do you have to buy until you \"catch 'em all\"?\n",
        "\n",
        "(This is called the \"coupon collector\" problem because the original problem involved a person who wanted to collect coupons.)"
      ]
    },
    {
      "cell_type": "code",
      "metadata": {
        "id": "ip_50FI4GB8W",
        "colab_type": "code",
        "colab": {}
      },
      "source": [
        "# Let's start by simulating the answer.\n",
        "def number_until_complete_set(toys):\n",
        "  collected = set([])  # This stores the unique toys collected.\n",
        "  for n, toy in enumerate(toys):\n",
        "    collected.add(toy) # add the toy to the collection\n",
        "    if len(collected) == 8: # If this is 8, then we have a complete set.\n",
        "      return n + 1  # Python uses zero-based indexing, so we add 1.\n",
        "\n",
        "model = BoxModel([1, 2, 3, 4, 5, 6, 7, 8], size=inf)\n",
        "X = RV(model, number_until_complete_set)\n",
        "\n",
        "X.sim(10000).mean()"
      ],
      "execution_count": 0,
      "outputs": []
    },
    {
      "cell_type": "markdown",
      "metadata": {
        "id": "UgnXo1OaC0pd",
        "colab_type": "text"
      },
      "source": [
        "Let $X_i$ be the number of Happy Meals you need to buy to get the $i$th unique toy, _after_ you have gotten the $(i - 1)$st unique toy. Then $X_1 + ... + X_8$ represents the number of meals you need to buy to get a complete set. Notice:\n",
        "\\begin{align*}\n",
        "X_1 &= 1 & X_2 &\\sim \\textrm{NegBin}(r=1, p={\\small\\frac{7}{8}}) & X_3 &\\sim \\textrm{NegBin}(r=1, p={\\small\\frac{6}{8}}) & ...\n",
        "\\end{align*}\n",
        "\n",
        "Now by linearity of expectation:\n",
        "$$ E[X_1 + ... + X_8] = E[X_1] + ... + E[X_8] = 1 + \\frac{8}{7} + \\frac{8}{6} + ... + \\frac{8}{1} \\approx 21.7. $$"
      ]
    }
  ]
}