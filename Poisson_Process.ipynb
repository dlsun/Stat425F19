{
  "nbformat": 4,
  "nbformat_minor": 0,
  "metadata": {
    "colab": {
      "name": "Poisson Process",
      "provenance": [],
      "collapsed_sections": [
        "lRvCEBe3DeCx",
        "jZtjQA_kHudd"
      ]
    },
    "kernelspec": {
      "name": "python3",
      "display_name": "Python 3"
    }
  },
  "cells": [
    {
      "cell_type": "code",
      "metadata": {
        "id": "b3SE9dV3_M9l",
        "colab_type": "code",
        "cellView": "form",
        "colab": {}
      },
      "source": [
        "#@title Imports\n",
        "!pip install -q symbulate\n",
        "from symbulate import *\n",
        "\n",
        "import numpy as np\n",
        "import matplotlib.pyplot as plt\n",
        "%matplotlib inline"
      ],
      "execution_count": 0,
      "outputs": []
    },
    {
      "cell_type": "markdown",
      "metadata": {
        "id": "ZOpwAdMK_HmZ",
        "colab_type": "text"
      },
      "source": [
        "# Poisson Process"
      ]
    },
    {
      "cell_type": "markdown",
      "metadata": {
        "id": "8Wh1Iz9z_3bp",
        "colab_type": "text"
      },
      "source": [
        "## Motivation: Time-to-Event Data\n",
        "\n",
        "Suppose we wish to model random events (called **arrivals**) over time. For example, we might be interested in when radioactive particles hit a Geiger counter or when customers arrive at a bank. \n",
        "\n",
        "Run the cell below to simulate some random arrivals."
      ]
    },
    {
      "cell_type": "code",
      "metadata": {
        "id": "K9xAteiU_Eiu",
        "colab_type": "code",
        "cellView": "form",
        "colab": {}
      },
      "source": [
        "#@title Simulate Random Arrivals\n",
        "\n",
        "plt.figure(figsize=(8, 1))\n",
        "n = np.random.poisson(lam=6)\n",
        "for t in 3 * np.random.rand(n):\n",
        "  plt.plot([t], [0], 'rx', markersize=10)\n",
        "plt.xlim(0, 3)\n",
        "plt.xlabel(\"Time ($t$)\", fontsize=16)\n",
        "  \n",
        "ax = plt.gca()\n",
        "ax.yaxis.set_visible(False)\n",
        "ax.spines['bottom'].set_position('center')\n",
        "ax.spines['left'].set_color('none')\n",
        "ax.spines['right'].set_color('none')\n",
        "ax.spines['top'].set_color('none')"
      ],
      "execution_count": 0,
      "outputs": []
    },
    {
      "cell_type": "markdown",
      "metadata": {
        "id": "lRvCEBe3DeCx",
        "colab_type": "text"
      },
      "source": [
        "## Model for Time-to-Event Data\n",
        "\n",
        "- Chop up time into short intervals of length $\\Delta t = 1/m$, where $m$ is a large number. \n",
        "- Each short interval can either have 0 arrivals or 1 arrival. (The intervals are so short that 2 or more arrivals in the same interval is impossible.)\n",
        "- The probability of an arrival on a short interval is small, $\\lambda / m$. This means that the rate of arrivals is constant. For example, in 1 second, there are $m$ intervals, so the rate of arrivals is \n",
        "$$ m \\cdot \\frac{\\lambda}{m} = \\lambda \\text{ arrivals per second}. $$\n",
        "- An arrival in one interval does not change the probability of an arrival in any other interval, so these intervals can be modeled as random draws (with replacement) from a box."
      ]
    },
    {
      "cell_type": "markdown",
      "metadata": {
        "id": "w0Z-kHAiEOI5",
        "colab_type": "text"
      },
      "source": [
        "How many arrivals are there between times $s$ and $t$? There are $m(t - s)$ short intervals between $s$ and $t$, each of which has a probability $\\lambda / m$ of containing an arrival. So the exact distribution is \n",
        "\n",
        "$$ \\text{number of arrivals in $(s, t)$} \\sim \\text{Binomial}(n=m(t - s), p=\\lambda/m). $$ \n",
        "\n",
        "But when $n$ is large and $p$ is small, as in this case, the binomial distribution can be approximated by a\n",
        "\n",
        "$$\\text{Poisson}(\\mu=np=\\lambda(t - s)) $$ \n",
        "\n",
        "distribution. For this reason, the model above is called the **Poisson process**."
      ]
    },
    {
      "cell_type": "markdown",
      "metadata": {
        "id": "jZtjQA_kHudd",
        "colab_type": "text"
      },
      "source": [
        "## Example\n",
        "\n",
        "For example, consider a Poisson process with a rate of $2.3$ arrivals per second. \n",
        "\n",
        "Plot the p.m.f. of the \n",
        "- number of arrivals between $1$ and $3$ seconds\n",
        "- number of arrivals between $5$ and $10$ seconds.\n",
        "\n",
        "Compare what you see."
      ]
    },
    {
      "cell_type": "code",
      "metadata": {
        "id": "-egkcZLqAZOY",
        "colab_type": "code",
        "colab": {}
      },
      "source": [
        "# YOUR CODE HERE\n"
      ],
      "execution_count": 0,
      "outputs": []
    }
  ]
}