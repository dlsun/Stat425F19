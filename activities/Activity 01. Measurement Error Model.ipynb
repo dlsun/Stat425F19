{
 "cells": [
  {
   "cell_type": "markdown",
   "metadata": {},
   "source": [
    "# Measurement Error Model\n",
    "\n",
    "In the real world, all measurements are made with imperfect measuring devices. One common model for measurement error is the following: the measurements $X_1, ..., X_n$ follow a normal distribution around mean $\\mu$, where $\\mu$ is the true value we are trying to measure. (The SD is assumed to be known; for simplicity, we assume it is equal to $1$.)\n",
    "\n",
    "Suppose we make $n=9$ measurements. One possible estimator of $\\mu$ is the _mean_ of the 9 measurements; another estimator is the _median_ of the 9 measurements. Which is better?\n",
    "\n",
    "First, let's calculate the bias of each estimator. The code below specifies the model for $9$ independent measurements from a normal distribution with $\\mu = 0$."
   ]
  },
  {
   "cell_type": "code",
   "execution_count": null,
   "metadata": {},
   "outputs": [],
   "source": [
    "!pip install -q symbulate\n",
    "from symbulate import *"
   ]
  },
  {
   "cell_type": "code",
   "execution_count": null,
   "metadata": {},
   "outputs": [],
   "source": [
    "model = Normal(0, 1) ** 9\n",
    "\n",
    "# YOUR CODE HERE"
   ]
  },
  {
   "cell_type": "markdown",
   "metadata": {},
   "source": [
    "One way to decide between two estimators with the same bias is to compare their variances (`.var()`). Which estimator has the smaller variance: the mean or the median? It may help to plot the distribution of the estimators (`.plot()`) on the same graph."
   ]
  },
  {
   "cell_type": "code",
   "execution_count": null,
   "metadata": {},
   "outputs": [],
   "source": [
    "# YOUR CODE HERE"
   ]
  },
  {
   "cell_type": "markdown",
   "metadata": {},
   "source": [
    "## Submission Instructions\n",
    "\n",
    "Once you have finished this notebook, [answer a few questions about this activity on PolyLearn](https://polylearn.calpoly.edu/AY_2019-2020/mod/quiz/view.php?id=113580) to receive credit."
   ]
  }
 ],
 "metadata": {
  "kernelspec": {
   "display_name": "Python 3",
   "language": "python",
   "name": "python3"
  },
  "language_info": {
   "codemirror_mode": {
    "name": "ipython",
    "version": 3
   },
   "file_extension": ".py",
   "mimetype": "text/x-python",
   "name": "python",
   "nbconvert_exporter": "python",
   "pygments_lexer": "ipython3",
   "version": "3.6.8"
  }
 },
 "nbformat": 4,
 "nbformat_minor": 2
}
