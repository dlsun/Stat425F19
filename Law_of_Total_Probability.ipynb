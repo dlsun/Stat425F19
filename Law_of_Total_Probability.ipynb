{
  "nbformat": 4,
  "nbformat_minor": 0,
  "metadata": {
    "colab": {
      "name": "Law of Total Probability",
      "provenance": [],
      "collapsed_sections": [
        "ss8LP-wxSWlb",
        "vzM2zzF2GUxS",
        "eb1j8MFJNjlt",
        "cZ41T0CIV-Ks",
        "pa4-w2KZQWN0",
        "GjQXFbRbUfcv",
        "pt1vi7u9UJxa"
      ]
    },
    "kernelspec": {
      "name": "python3",
      "display_name": "Python 3"
    }
  },
  "cells": [
    {
      "cell_type": "code",
      "metadata": {
        "id": "D7hlCeJVHLmk",
        "colab_type": "code",
        "colab": {},
        "cellView": "form"
      },
      "source": [
        "#@title Imports\n",
        "!pip install -q symbulate\n",
        "from symbulate import *"
      ],
      "execution_count": 0,
      "outputs": []
    },
    {
      "cell_type": "markdown",
      "metadata": {
        "id": "ss8LP-wxSWlb",
        "colab_type": "text"
      },
      "source": [
        "# Law of Total Probability\n",
        "\n",
        "Let $X$ be a random variable and $A$ be any event. Then:\n",
        "\n",
        "$$ P(A) = \\sum_x P(X=x) P(A | X=x). $$\n",
        "\n",
        "This strategy is useful when $X$ represents information _you wish you knew_ for calculating $P(A)$ so that $P(A | X = x)$ is particularly simple."
      ]
    },
    {
      "cell_type": "markdown",
      "metadata": {
        "id": "vzM2zzF2GUxS",
        "colab_type": "text"
      },
      "source": [
        "## Example 1.\n",
        "\n",
        "The ELISA test is used to screen blood for HIV. \n",
        "\n",
        "- When the blood contains HIV, it gives a positive result 99\\% of the time. \n",
        "- When the blood does not contain HIV, it gives a negative result 94\\% of the time. \n",
        "\n",
        "If the prevalence of HIV is 0.7\\% in the adult male population, what is the probability that a randomly selected adult male will test positive?\n",
        "\n",
        "Suppose an adult male patient has just tested positive and wants to know the probability that he has HIV. What would you tell him?"
      ]
    },
    {
      "cell_type": "markdown",
      "metadata": {
        "id": "NLLAbBVZOTyJ",
        "colab_type": "text"
      },
      "source": [
        "To calculate the probability of $A = \\{ \\text{test positive}\\}$, it would be useful to know whether the person have HIV or not. So let $X = 1$ if he has HIV and $X=0$ if he does not. We are given in the problem that \n",
        "\n",
        "- $P(A | X=1) = .99$\n",
        "- $P(A | X=0) = 1 - .94 = .06$\n",
        "\n",
        "By the Law of Total Probability, the probability that a random selected adult male tests positive is\n",
        "\n",
        "$$ P(A) = P(X=1) P(A|X=1) + P(X=0) P(A|X=0) = .007 (.99) + (1 - .007) (.06) = 0.06651. $$\n",
        "\n",
        "The patient wants to know $P(X=1|A)$. We can use the conditional probability formula:\n",
        "\n",
        "$$ P(X=1|A) = \\frac{P(X=1 \\cap A)}{P(A)} = \\frac{P(X=1) P(A|X=1)}{P(A)} = \\frac{.007 (.99)}{.06651} = .10419, $$\n",
        "\n",
        "so the patient only has about a 10% chance of having the disease, even though he tested positive. This simple application of conditional probability and the Law of Total Probability is called Bayes' rule."
      ]
    },
    {
      "cell_type": "markdown",
      "metadata": {
        "id": "eb1j8MFJNjlt",
        "colab_type": "text"
      },
      "source": [
        "## Example 2.\n",
        "\n",
        "You draw two cards from a well-shuffled deck of cards. What is the probability that the 2nd card is a heart?"
      ]
    },
    {
      "cell_type": "code",
      "metadata": {
        "id": "Y25v3VttRHTH",
        "colab_type": "code",
        "colab": {}
      },
      "source": [
        "model = DeckOfCards(size=2)\n",
        "\n",
        "def second_card_is_heart(draws):\n",
        "  return (draws[1][1] == \"Hearts\")\n",
        "\n",
        "model.sim(10000)#.apply(second_card_is_heart).tabulate()"
      ],
      "execution_count": 0,
      "outputs": []
    },
    {
      "cell_type": "markdown",
      "metadata": {
        "id": "cZ41T0CIV-Ks",
        "colab_type": "text"
      },
      "source": [
        "### Argument by Symmetry"
      ]
    },
    {
      "cell_type": "markdown",
      "metadata": {
        "id": "VqEMzqy0RFGH",
        "colab_type": "text"
      },
      "source": [
        "Without any other information, the 2nd card is equally likely to be any of the 52 cards. So the probability must be $13 / 52$."
      ]
    },
    {
      "cell_type": "markdown",
      "metadata": {
        "id": "pa4-w2KZQWN0",
        "colab_type": "text"
      },
      "source": [
        "### Argument by Law of Total Probability"
      ]
    },
    {
      "cell_type": "markdown",
      "metadata": {
        "id": "SR4BRGE7S7ZZ",
        "colab_type": "text"
      },
      "source": [
        "It is true that the probability that the 2nd card is a heart changes, depending on what the 1st card was. But in the absence of any information about the 1st card, the probability that the 2nd card is a heart is $13/52$.\n",
        "\n",
        "If you fail to be convinced by this argument, let's do a calculation. Let $A$ be the event that the 2nd card is a heart. If we condition on whether the 1st card is a heart ($X=1$), then the probabilities are uncontroversial:\n",
        "\n",
        "- $P(A | X=1) = 12/51$\n",
        "- $P(A | X=0) = 13/51$\n",
        "\n",
        "Now we use the Law of Total Probability:\n",
        "\n",
        "$$ P(A) = P(X=0) P(A|X=0) + P(X=1) P(A|X=1) = \\frac{39}{52} \\frac{13}{51} + \\frac{13}{52} \\frac{12}{51} = \\frac{13}{52}. $$"
      ]
    },
    {
      "cell_type": "markdown",
      "metadata": {
        "id": "GjQXFbRbUfcv",
        "colab_type": "text"
      },
      "source": [
        "# Sums of Independent Random Variables\n",
        "\n",
        "Suppose $X$ and $Y$ are independent random variables. What is the distribution of their sum $S = X + Y$?\n",
        "\n",
        "We can use the Law of Total Probability, conditioning on the value of $X$:\n",
        "\\begin{align}\n",
        "P(S = s) &= \\sum_x P(X=x) P(S=s | X=x) \\\\\n",
        "&= \\sum_x P(X=x) P(X+Y=s | X=x) & \\text{(definition of $S$)} \\\\\n",
        "&= \\sum_x P(X=x) P(Y=s-x | X=x) & \\text{(using given information)} \\\\\n",
        "&= \\sum_x P(X=x) P(Y=s-x) & \\text{(by independence)} \\\\\n",
        "\\end{align}\n",
        "\n",
        "If $p_X$ is the p.m.f. of $X$ and $p_Y$ is the p.m.f. of $Y$, then the p.m.f. of the sum is given by \n",
        "$$ p_S[s] = \\sum_x p_X[x] p_Y[s - x]. $$\n",
        "This is called the _convolution_ of $p_X$ and $p_Y$. Convolution is an important operation in signal processing."
      ]
    },
    {
      "cell_type": "markdown",
      "metadata": {
        "id": "pt1vi7u9UJxa",
        "colab_type": "text"
      },
      "source": [
        "## Example 3.\n",
        "\n",
        "Let $X \\sim \\text{Binomial}(n, p)$ and $Y \\sim \\text{Binomial}(m, p)$. What is the distribution of $S = X + Y$?"
      ]
    },
    {
      "cell_type": "markdown",
      "metadata": {
        "id": "ugWqEm-vUTAl",
        "colab_type": "text"
      },
      "source": [
        "\\begin{align}\n",
        "P(S=s) &= \\sum_{x=0}^n P(X=x) P(Y=s-x) \\\\\n",
        "&= \\sum_{x=0}^n \\binom{n}{x} p^x (1-p)^{n-x} \\binom{m}{s-x} p^{s-x} (1-p)^{m-(s-x)} \\\\\n",
        "&= \\sum_{x=0}^n \\binom{n}{x} \\binom{m}{s-x} p^s (1-p)^{n + m - s} \\\\\n",
        "&= \\binom{n+m}{s} p^s (1-p)^{n+m-s}\n",
        "\\end{align}\n",
        "In the last step, we used the fact that the hypergeometric p.m.f. \n",
        "$$ p[x] = \\frac{\\binom{n}{x} \\binom{m}{s-x}}{\\binom{n+m}{s}} $$\n",
        "must sum to 1, so the numerator must sum to the denominator.\n",
        "\n",
        "Now, we recognize this as the p.m.f. of a $\\text{Binomial}(n + m, p)$ distribution."
      ]
    },
    {
      "cell_type": "markdown",
      "metadata": {
        "id": "5tETEqRCPivG",
        "colab_type": "text"
      },
      "source": [
        "Here's an intuitive way to see the above result that avoids all computation.\n",
        "\n",
        "Let $X_1, ..., X_n$ be the individual draws from the box, so that each $X_i$ is either 0 or 1. These random variables are independent, since the draws are made with replacement. Then the binomial random variable $X$ can be expressed as a sum of these independent random variables.\n",
        "$$ X = X_1 + ... + X_n. $$\n",
        "\n",
        "We can represent $Y$ as the sum of $m$ more draws from the same box:\n",
        "$$ Y = Y_1 + ... + Y_m. $$\n",
        "(The $Y_i$s cannot overlap with the $X_i$s because we need $Y$ to be independent of $X$.)\n",
        "\n",
        "Now their sum is just the sum of $m + n$ draws from the box\n",
        "$$ X + Y = X_1 + ... + X_n + Y_1 + ... + Y_m, $$\n",
        "which must therefore be $\\text{Binomial}(n+m, p)$.\n"
      ]
    }
  ]
}