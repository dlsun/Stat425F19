{
 "cells": [
  {
   "cell_type": "code",
   "execution_count": null,
   "metadata": {
    "colab": {
     "base_uri": "https://localhost:8080/",
     "height": 329
    },
    "colab_type": "code",
    "id": "V--R0JHLIKVX",
    "outputId": "e99f90d0-da61-476b-e086-db6056365d35"
   },
   "outputs": [],
   "source": [
    "!pip install -q symbulate\n",
    "from symbulate import *\n",
    "%matplotlib inline"
   ]
  },
  {
   "cell_type": "markdown",
   "metadata": {},
   "source": [
    "# The Binomial Model\n",
    "\n",
    "In the previous lecture, we imagined tossing a coin with probability $p$ of coming up heads. We modeled the coin tosses as draws (with replacement) from a box of $\\fbox{0}$s and $\\fbox{1}$s, where a $\\fbox{1}$ represented heads.\n",
    "\n",
    "$$ \\fbox{$\\overbrace{\\underbrace{\\fbox{0}\\ \\fbox{0}\\ \\cdots\\ \\fbox{0}}_{\\text{$N_0$ tickets}}\\ \\underbrace{\\fbox{1}\\ \\fbox{1}\\ \\cdots\\ \\fbox{1}}_{\\text{$N_1$ tickets}}}^{\\text{$N$ tickets}}$} $$\n",
    "\n",
    "If the coin is fair ($p = 1/2$), then we can take $N_0 = N_1 = 1$. But in general, the composition of the box depends on the value of $p$. We choose $N_0$ and $N_1$ so that the fraction of $\\fbox{1}$s in the box matches the value of $p$, i.e.,\n",
    "\n",
    "$$ p = \\frac{N_1}{N}. $$\n",
    "\n",
    "For example, to simulate $n = 5$ tosses of a coin with a probability $0.4$ of coming up heads, we did the following."
   ]
  },
  {
   "cell_type": "code",
   "execution_count": null,
   "metadata": {},
   "outputs": [],
   "source": [
    "model = BoxModel([0, 0, 0, 0, 0, 0, 1, 1, 1, 1], size=5, replace=True)\n",
    "X = RV(model, sum)\n",
    "xs = X.sim(10000)\n",
    "xs"
   ]
  },
  {
   "cell_type": "code",
   "execution_count": null,
   "metadata": {},
   "outputs": [],
   "source": [
    "xs.plot()"
   ]
  },
  {
   "cell_type": "markdown",
   "metadata": {},
   "source": [
    "We can approximate any probability by counting the number of simulations. For example, here's how we could approximate $P(X = 2)$ or $P(X < 2)$ using the 10000 simulations above:"
   ]
  },
  {
   "cell_type": "code",
   "execution_count": null,
   "metadata": {},
   "outputs": [],
   "source": [
    "xs.count_eq(2) / 10000, xs.count_lt(2) / 10000"
   ]
  },
  {
   "cell_type": "markdown",
   "metadata": {},
   "source": [
    "The problem with simulations is that they are not exact. We can get closer to the exact probabilities by increasing the number of simulations, but we will never get exact probabilities by simulation. (Not to mention that we get a different number each time the simulation is run.)\n",
    "\n",
    "In this lecture, we derive an exact formula for the probabilities in the binomial model, in terms of $n$, $N_1$, and $N_0$. To summarize, the **binomial model** describes:\n",
    "\n",
    "- the number of $\\fbox{1}$s you get\n",
    "- when you draw $n$ tickets _with_ replacement \n",
    "- from a box of $\\fbox{0}$s and $\\fbox{1}$s."
   ]
  },
  {
   "cell_type": "markdown",
   "metadata": {},
   "source": [
    "## A Special Case\n",
    "\n",
    "Let's work out the probability that we get exactly 2 $\\fbox{1}$s when we draw 5 tickets with replacement from the box above:\n",
    "\n",
    "$$ \\fbox{$\\overbrace{\\underbrace{\\fbox{0}\\ \\fbox{0}\\ \\fbox{0}\\ \\fbox{0}\\ \\fbox{0}\\ \\fbox{0}}_{\\text{$N_0 = 6$}}\\ \\underbrace{\\fbox{1}\\ \\fbox{1}\\ \\fbox{1}\\ \\fbox{1}}_{\\text{$N_1=4$}}}^{\\text{$N=10$}}$}. $$\n",
    "\n",
    "There are $10 \\times 10 \\times 10 \\times 10 \\times 10 = 10^5$ equally likely ways to draw 5 tickets from this box. How many of them result in exactly 2 $\\fbox{1}$s, our event of interest?\n",
    "\n",
    "One possibility is to we draw the 2 $\\fbox{1}$s first, followed by 3 $\\fbox{0}$s, i.e., \n",
    "\n",
    "$$ \\fbox{1}\\ \\fbox{1}\\ \\fbox{0}\\ \\fbox{0}\\ \\fbox{0}. $$ \n",
    "\n",
    "The number of such outcomes is \n",
    "\n",
    "$$ 4 \\times 4 \\times 6 \\times 6 \\times 6 = 4^2 \\cdot 6^3. $$"
   ]
  },
  {
   "cell_type": "markdown",
   "metadata": {},
   "source": [
    "But maybe the 2 $\\fbox{1}$s and 3 $\\fbox{0}$s were observed in some other order, such as \n",
    "\n",
    "$$ \\fbox{0}\\ \\fbox{1}\\ \\fbox{0}\\ \\fbox{0}\\ \\fbox{1}. $$ \n",
    "\n",
    "The number of such outcomes is \n",
    "\n",
    "$$ 6 \\times 4 \\times 6 \\times 6 \\times 4 = 4^2 \\cdot 6^3. $$\n",
    "\n",
    "**No matter how the 2 $\\fbox{1}$s and 3 $\\fbox{0}$s are ordered, there will be $4^2 \\cdot 6^3$ such outcomes.**"
   ]
  },
  {
   "cell_type": "markdown",
   "metadata": {},
   "source": [
    "Therefore, the number of ways of getting exactly 2 $\\fbox{1}$s is \n",
    "\n",
    "\\begin{align*}\n",
    "(\\text{# ways to get 2 $\\fbox{1}$s in 5 draws}) &= (\\text{# ways to arrange 2 $\\fbox{1}$s and 3 $\\fbox{1}$s}) \\cdot 4^2 \\cdot 6^3 \\\\\n",
    "&= \\binom{5}{2} \\cdot 4^2 \\cdot 6^3\n",
    "\\end{align*}\n",
    "\n",
    "So the probability is this number, divided by the total number of ways:\n",
    "\n",
    "$$ P(X = 2) =  \\frac{\\binom{5}{2} \\cdot 4^2 \\cdot 6^3}{10^5}. $$"
   ]
  },
  {
   "cell_type": "code",
   "execution_count": null,
   "metadata": {},
   "outputs": [],
   "source": [
    "factorial(5) / (factorial(2) * factorial(3)) * (4 ** 2) * (6 ** 3) / (10 ** 5)"
   ]
  },
  {
   "cell_type": "markdown",
   "metadata": {},
   "source": [
    "This probability is exact, unlike the one we simulated earlier."
   ]
  },
  {
   "cell_type": "markdown",
   "metadata": {},
   "source": [
    "## The General Case\n",
    "\n",
    "Now let's generalize the derivation above to general $n$, $N_1$, and $N_0$. (Recall that in the example above, $n = 5$, $N_1 = 4$ and $N_0 = 6$.) The probability of getting exactly $x$ $\\fbox{1}$s is \n",
    "\n",
    "$$ P(X = x) = \\frac{\\binom{n}{x} N_1^x N_0^{n-x}}{N^n}. $$\n",
    "\n",
    "Notice that this formula can be rewritten in terms of $p = N_1 / N$:\n",
    "\n",
    "\\begin{align*}\n",
    "P(X = x) &= \\frac{\\binom{n}{x} N_1^x N_0^{n-x}}{N^n} \\\\\n",
    "&= \\binom{n}{x} \\frac{ N_1^x N_0^{n-x}}{N^x N^{n-x}} \\\\\n",
    "&= \\binom{n}{x} p^x (1 - p)^{n-x}.\n",
    "\\end{align*}\n",
    "\n",
    "This is the more common way of expressing the **probability mass function** (p.m.f.) of the binomial. The p.m.f. is a function that returns the probability of the outcome you plug into that function.\n",
    "\n",
    "You can plot or evaluate the p.d.f. in Symbulate:"
   ]
  },
  {
   "cell_type": "code",
   "execution_count": null,
   "metadata": {},
   "outputs": [],
   "source": [
    "Binomial(n=5, p=.4).plot()"
   ]
  },
  {
   "cell_type": "code",
   "execution_count": null,
   "metadata": {},
   "outputs": [],
   "source": [
    "Binomial(n=5, p=.4).pdf(2)"
   ]
  },
  {
   "cell_type": "markdown",
   "metadata": {
    "colab_type": "text",
    "id": "qbNDy835RHWZ"
   },
   "source": [
    "## Example. Roulette\n",
    "\n",
    "In roulette, the ball is equally likely to land in any one of 38 pockets, which includes 18 red, 18 black, and 2 green. What is the probability the ball lands in a red pocket **at least once** in 4 spins of the roulette wheel? \n",
    "\n",
    "Tips:\n",
    "- Set up a box model, identify the binomial distribution, and use the p.m.f. of the binomial distribution.\n",
    "- There are multiple ways to answer this question. I encourage you to try multiple methods and make sure they agree."
   ]
  },
  {
   "cell_type": "code",
   "execution_count": null,
   "metadata": {},
   "outputs": [],
   "source": [
    "# YOUR CODE HERE"
   ]
  }
 ],
 "metadata": {
  "colab": {
   "collapsed_sections": [],
   "name": "Chapter 1. Models for Discrete Phenomena",
   "provenance": []
  },
  "kernelspec": {
   "display_name": "Python 3",
   "language": "python",
   "name": "python3"
  },
  "language_info": {
   "codemirror_mode": {
    "name": "ipython",
    "version": 3
   },
   "file_extension": ".py",
   "mimetype": "text/x-python",
   "name": "python",
   "nbconvert_exporter": "python",
   "pygments_lexer": "ipython3",
   "version": "3.6.8"
  }
 },
 "nbformat": 4,
 "nbformat_minor": 1
}
