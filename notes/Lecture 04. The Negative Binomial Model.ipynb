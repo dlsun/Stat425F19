{
  "nbformat": 4,
  "nbformat_minor": 0,
  "metadata": {
    "colab": {
      "name": "The Negative Binomial Model",
      "provenance": [],
      "collapsed_sections": []
    },
    "kernelspec": {
      "display_name": "Python 3",
      "language": "python",
      "name": "python3"
    },
    "language_info": {
      "codemirror_mode": {
        "name": "ipython",
        "version": 3
      },
      "file_extension": ".py",
      "mimetype": "text/x-python",
      "name": "python",
      "nbconvert_exporter": "python",
      "pygments_lexer": "ipython3",
      "version": "3.7.2"
    }
  },
  "cells": [
    {
      "cell_type": "code",
      "metadata": {
        "colab_type": "code",
        "id": "V--R0JHLIKVX",
        "colab": {
          "base_uri": "https://localhost:8080/",
          "height": 35
        },
        "outputId": "6fb122c5-4030-4497-94b6-f78203653a7b"
      },
      "source": [
        "!pip install -q symbulate\n",
        "from symbulate import *\n",
        "%matplotlib inline"
      ],
      "execution_count": 1,
      "outputs": [
        {
          "output_type": "stream",
          "text": [
            "  Building wheel for symbulate (setup.py) ... \u001b[?25l\u001b[?25hdone\n"
          ],
          "name": "stdout"
        }
      ]
    },
    {
      "cell_type": "markdown",
      "metadata": {
        "id": "MpUZ2NS9hZII",
        "colab_type": "text"
      },
      "source": [
        "# The Negative Binomial Model\n",
        "\n",
        "In the binomial model, we drew a fixed number ($n$) of tickets from the box \n",
        "\n",
        "$$ \\fbox{$\\overbrace{\\underbrace{\\fbox{0}\\ \\fbox{0}\\ \\cdots\\ \\fbox{0}}_{\\text{$N_0$ tickets}}\\ \\underbrace{\\fbox{1}\\ \\fbox{1}\\ \\cdots\\ \\fbox{1}}_{\\text{$N_1$ tickets}}}^{\\text{$N$ tickets}}$}. $$\n",
        "\n",
        "The number of $\\fbox{1}$s we get in those $n$ draws is a random variable.\n",
        "\n",
        "In the **negative binomial model**, we reverse our perspective. Instead of fixing the number of draws, we instead fix the number ($r$) of $\\fbox{1}$s. We ask how many draws do we need until we get $r$ $\\fbox{1}$s? Now, the number of draws is the random variable.\n",
        "\n",
        "To be concrete, suppose we want to know how many times we need to roll a fair die until we encounter 3 sixes. We can simulate this by drawing from the box \n",
        "\n",
        "$$ \\fbox{$\\fbox{0}\\ \\fbox{0}\\ \\fbox{0}\\ \\fbox{0}\\ \\fbox{0}\\ \\fbox{1}$}. $$\n",
        "\n",
        "There is no upper bound on the number of draws we need, so we make infinite draws from this box."
      ]
    },
    {
      "cell_type": "code",
      "metadata": {
        "id": "vTDgJtGmhZII",
        "colab_type": "code",
        "colab": {
          "base_uri": "https://localhost:8080/",
          "height": 267
        },
        "outputId": "4105fd23-f0a2-4bdc-9ab6-b5a3c4e22bf9"
      },
      "source": [
        "model = BoxModel([0, 0, 0, 0, 0, 1], size=inf, replace=True)\n",
        "\n",
        "# This function determines the number of draws until we get 3 ones.\n",
        "def time_until_3_ones(draws):\n",
        "    number_of_ones = 0\n",
        "    for index, draw in enumerate(draws):\n",
        "        if draw == 1:\n",
        "            number_of_ones += 1\n",
        "            if number_of_ones == 3:\n",
        "                return index + 1\n",
        "\n",
        "X = RV(model, time_until_3_ones)\n",
        "xs = X.sim(10000)\n",
        "xs"
      ],
      "execution_count": 2,
      "outputs": [
        {
          "output_type": "execute_result",
          "data": {
            "text/html": [
              "\n",
              "    <table>\n",
              "      <thead>\n",
              "        <th width=\"10%\">Index</th>\n",
              "        <th width=\"90%\">Result</th>\n",
              "      </thead>\n",
              "      <tbody>\n",
              "        \n",
              "        <tr>\n",
              "          <td>0</td><td>25</td>\n",
              "        </tr>\n",
              "        \n",
              "        <tr>\n",
              "          <td>1</td><td>29</td>\n",
              "        </tr>\n",
              "        \n",
              "        <tr>\n",
              "          <td>2</td><td>24</td>\n",
              "        </tr>\n",
              "        \n",
              "        <tr>\n",
              "          <td>3</td><td>16</td>\n",
              "        </tr>\n",
              "        \n",
              "        <tr>\n",
              "          <td>4</td><td>6</td>\n",
              "        </tr>\n",
              "        \n",
              "        <tr>\n",
              "          <td>5</td><td>22</td>\n",
              "        </tr>\n",
              "        \n",
              "        <tr>\n",
              "          <td>6</td><td>17</td>\n",
              "        </tr>\n",
              "        \n",
              "        <tr>\n",
              "          <td>7</td><td>16</td>\n",
              "        </tr>\n",
              "        \n",
              "        <tr>\n",
              "          <td>8</td><td>12</td>\n",
              "        </tr>\n",
              "        <tr><td>...</td><td>...</td></tr>\n",
              "        <tr>\n",
              "          <td>9999</td><td>10</td>\n",
              "        </tr>\n",
              "        \n",
              "      </tbody>\n",
              "    </table>\n",
              "        "
            ],
            "text/plain": [
              "<symbulate.results.RVResults at 0x7ff830f06860>"
            ]
          },
          "metadata": {
            "tags": []
          },
          "execution_count": 2
        }
      ]
    },
    {
      "cell_type": "code",
      "metadata": {
        "id": "pK_4MmNkhZIL",
        "colab_type": "code",
        "colab": {
          "base_uri": "https://localhost:8080/",
          "height": 269
        },
        "outputId": "bb95a18a-24e1-4b33-cd11-eacc33f07293"
      },
      "source": [
        "xs.plot()"
      ],
      "execution_count": 5,
      "outputs": [
        {
          "output_type": "display_data",
          "data": {
            "image/png": "[encoded data removed]",
            "text/plain": [
              "<Figure size 432x288 with 1 Axes>"
            ]
          },
          "metadata": {
            "tags": []
          }
        }
      ]
    },
    {
      "cell_type": "markdown",
      "metadata": {
        "id": "YWOuxkDqhZIN",
        "colab_type": "text"
      },
      "source": [
        "We can approximate any probability by counting the number of simulations. For example, here's how we could approximate $P(X = 8)$ using the 10000 simulations above:"
      ]
    },
    {
      "cell_type": "code",
      "metadata": {
        "id": "yYB7P2J_hZIO",
        "colab_type": "code",
        "colab": {
          "base_uri": "https://localhost:8080/",
          "height": 35
        },
        "outputId": "571b530e-64e0-4e8f-ccaf-0f1b2bb82652"
      },
      "source": [
        "xs.count_eq(8) / 10000"
      ],
      "execution_count": 6,
      "outputs": [
        {
          "output_type": "execute_result",
          "data": {
            "text/plain": [
              "0.0391"
            ]
          },
          "metadata": {
            "tags": []
          },
          "execution_count": 6
        }
      ]
    },
    {
      "cell_type": "markdown",
      "metadata": {
        "id": "UkuDMpmthZIQ",
        "colab_type": "text"
      },
      "source": [
        "The problem with simulations is that they are not exact. We can get closer to the exact probabilities by increasing the number of simulations, but we will never get exact probabilities by simulation. (Not to mention that we get a different number each time the simulation is run.)\n",
        "\n",
        "In this lecture, we derive an exact formula for the probabilities in the negative binomial model, in terms of $n$, $N_1$, and $N_0$. To summarize, the **negative binomial model** describes:\n",
        "\n",
        "- the number of draws (with replacmement) you need\n",
        "- to get $r$ $\\fbox{1}$s\n",
        "- from a box of $\\fbox{0}$s and $\\fbox{1}$s."
      ]
    },
    {
      "cell_type": "markdown",
      "metadata": {
        "id": "VHWJB74GhZIQ",
        "colab_type": "text"
      },
      "source": [
        "## Warm-Up Example\n",
        "\n",
        "Before tackling the example above (rolling a die until $r=3$ sixes come up), let's first consider the simpler case where we roll a die until a six comes up. This is a negative binomial model with $r=1$. Some people call this special case of the negative binomial model the **geometric model**.\n",
        "\n",
        "We draw from the box \n",
        "$$ \\fbox{$\\overbrace{\\underbrace{\\fbox{0}\\ \\fbox{0}\\ \\fbox{0}\\ \\fbox{0}\\ \\fbox{0}}_{N_0=5}\\ \\underbrace{\\fbox{1}}_{N_1=1}}^{N=6}$} $$\n",
        "until we get a $\\fbox{1}$. What is the probability it takes exactly 8 draws?\n",
        "\n",
        "Even though we stop as soon as we get a $\\fbox{1}$, let's imagine that we continue to roll the die, even after a $\\fbox{1}$ has come up. Now, we focus on the first 8 rolls. All $6 \\times 6 \\times ... \\times 6 = 6^8$ possible outcomes are equally likely.\n",
        "\n",
        "In how many of these outcomes does the first six happen on the 8th roll? In order for this to happen, the draws must come out as \n",
        "\n",
        "$$ \\fbox{0}\\ \\fbox{0}\\ \\fbox{0}\\ \\fbox{0}\\ \\fbox{0}\\ \\fbox{0}\\ \\fbox{0}\\ \\fbox{1}. $$\n",
        "\n",
        "The number of outcomes following this pattern is \n",
        "\n",
        "$$ 5 \\times 5 \\times 5 \\times 5 \\times 5 \\times 5 \\times 5 \\times 1 = 5^7 \\cdot 1^1. $$\n",
        "\n",
        "To obtain the probability, we divide by the total number of outcomes, so\n",
        "\n",
        "$$ P(X = 8) = \\frac{5^7 \\cdot 1^1}{6^8}. $$"
      ]
    },
    {
      "cell_type": "markdown",
      "metadata": {
        "id": "sS-wsLlahZIR",
        "colab_type": "text"
      },
      "source": [
        "## A Special Case\n",
        "\n",
        "Now let's tackle the example from earlier. What is the probability we need 8 rolls to get $r=3$ sixes?\n",
        "\n",
        "We are still drawing from the box\n",
        "$$ \\fbox{$\\overbrace{\\underbrace{\\fbox{0}\\ \\fbox{0}\\ \\fbox{0}\\ \\fbox{0}\\ \\fbox{0}}_{N_0=5}\\ \\underbrace{\\fbox{1}}_{N_1=1}}^{N=6}$}. $$\n",
        "\n",
        "Again, consider the first 8 rolls. There are $6^8$ equally likely outcomes. \n",
        "\n",
        "In how many of these outcomes does the 3rd six come on the 8th roll? There are several ways this can happen, such as:\n",
        "\n",
        "- $ \\fbox{0}\\ \\fbox{0}\\ \\fbox{0}\\ \\fbox{0}\\ \\fbox{0}\\ \\fbox{1}\\ \\fbox{1}\\ \\fbox{1}\\ \\ \\longrightarrow 5 \\times 5 \\times 5 \\times 5 \\times 5 \\times 1 \\times 1 \\times 1 = 5^5 \\cdot 1^3 \\text{ outcomes}$\n",
        "- $ \\fbox{0}\\ \\fbox{1}\\ \\fbox{0}\\ \\fbox{0}\\ \\fbox{0}\\ \\fbox{1}\\ \\fbox{0}\\ \\fbox{1}\\ \\ \\longrightarrow 5 \\times 1 \\times 5 \\times 5 \\times 5 \\times 1 \\times 5 \\times 1 = 5^5 \\cdot 1^3 \\text{ outcomes}$\n",
        "- $ \\fbox{0}\\ \\fbox{0}\\ \\fbox{1}\\ \\fbox{0}\\ \\fbox{1}\\ \\fbox{0}\\ \\fbox{0}\\ \\fbox{1}\\ \\ \\longrightarrow 5 \\times 5 \\times 1 \\times 5 \\times 1 \\times 5 \\times 5 \\times 1 = 5^5 \\cdot 1^3 \\text{ outcomes}. $\n",
        "- and many more....\n",
        "\n",
        "For every single one of these patterns, there are exactly $5^5 \\cdot 1^3$ corresponding outcomes. So to count the total number of outcomes, we simply multiply this number by the number of patterns. How many such patterns are there? If we need the 3rd $\\fbox{1}$ to come on the 8th draw, then the 8th draw must be a $\\fbox{1}$. That leaves 2 $\\fbox{1}$s to be distributed anywhere among the first 7 draws. There are \n",
        "$$ \\binom{7}{2} = \\binom{8-1}{3-1} $$\n",
        "ways to do this. So there are $\\binom{7}{2}$ patterns where the 3rd $\\fbox{1}$ comes on the 8th draw.\n",
        "\n",
        "Putting everything together, the probability of getting the 3rd six on the 8th roll is \n",
        "$$ P(X = 8) = \\frac{\\binom{7}{2} \\cdot 5^5 \\cdot 1^3}{6^8}. $$"
      ]
    },
    {
      "cell_type": "markdown",
      "metadata": {
        "id": "8sHFAulvhZIS",
        "colab_type": "text"
      },
      "source": [
        "## The General Case\n",
        "\n",
        "Now let's generalize the derivation above to general $r$, $N_1$, and $N_0$. (In the example above, $r = 3$, $N_1 = 1$ and $N_0 = 5$.) The probability that it takes exactly $x$ draws is \n",
        "\n",
        "$$ p_{r, N_1, N_0}(x) = P(X = x) = \\frac{\\binom{x-1}{r-1} N_1^r N_0^{x - r}}{N^x}. $$\n",
        "\n",
        "Notice that this formula can be rewritten in terms of $p = N_1 / N$:\n",
        "\n",
        "\\begin{align*}\n",
        "P(X = x) &= \\frac{\\binom{x-1}{r-1} N_1^r N_0^{x - r}}{N^x} \\\\\n",
        "&= \\binom{x-1}{r-1} \\frac{ N_1^r N_0^{x-r}}{N^r N^{x-r}} \\\\\n",
        "&= \\binom{x-1}{r-1} p^r (1 - p)^{x-r} = p_{r, p}(x).\n",
        "\\end{align*}\n",
        "\n",
        "This is the more common way of expressing the p.m.f. of the negative binomial.\n",
        "You can plot or evaluate the p.m.f. in Symbulate:"
      ]
    },
    {
      "cell_type": "code",
      "metadata": {
        "id": "dTFrGhEHhZIS",
        "colab_type": "code",
        "colab": {
          "base_uri": "https://localhost:8080/",
          "height": 269
        },
        "outputId": "315e8af9-661d-49ec-dd8b-6f8009780afb"
      },
      "source": [
        "NegativeBinomial(r=3, p=1/6).plot()"
      ],
      "execution_count": 7,
      "outputs": [
        {
          "output_type": "display_data",
          "data": {
            "image/png": "[encoded data removed]",
            "text/plain": [
              "<Figure size 432x288 with 1 Axes>"
            ]
          },
          "metadata": {
            "tags": []
          }
        }
      ]
    },
    {
      "cell_type": "code",
      "metadata": {
        "id": "sp1YCruehZIX",
        "colab_type": "code",
        "colab": {
          "base_uri": "https://localhost:8080/",
          "height": 35
        },
        "outputId": "0b202b05-f7e8-4bf2-c99b-cbb08d836932"
      },
      "source": [
        "NegativeBinomial(r=3, p=1/6).pdf(8)"
      ],
      "execution_count": 8,
      "outputs": [
        {
          "output_type": "execute_result",
          "data": {
            "text/plain": [
              "0.03907143061271148"
            ]
          },
          "metadata": {
            "tags": []
          },
          "execution_count": 8
        }
      ]
    },
    {
      "cell_type": "markdown",
      "metadata": {
        "colab_type": "text",
        "id": "qbNDy835RHWZ"
      },
      "source": [
        "## Example. Roulette\n",
        "\n",
        "In roulette, the ball is equally likely to land in any one of 38 pockets, which includes 18 red, 18 black, and 2 green. What is the probability that it will take more than 4 spins for the ball to land in a red pocket?"
      ]
    },
    {
      "cell_type": "code",
      "metadata": {
        "id": "Vw6nN6wQhZIZ",
        "colab_type": "code",
        "colab": {}
      },
      "source": [
        "# YOUR CODE HERE"
      ],
      "execution_count": 0,
      "outputs": []
    }
  ]
}