{
  "nbformat": 4,
  "nbformat_minor": 0,
  "metadata": {
    "colab": {
      "name": "Normal Distribution",
      "provenance": [],
      "collapsed_sections": [
        "SN0ZTjz2nyY3",
        "Z0PHHqp-_B_m",
        "MYEqNmas7g9S",
        "C7dE3BL0ouN3",
        "Djf8EtTk-E5U",
        "wkwLuq0iiYL7",
        "BfXV43biBXY5",
        "eWHCtKipAGVJ",
        "RSfBxjAXGc4-"
      ],
      "include_colab_link": true
    },
    "kernelspec": {
      "name": "python3",
      "display_name": "Python 3"
    }
  },
  "cells": [
    {
      "cell_type": "markdown",
      "metadata": {
        "id": "view-in-github",
        "colab_type": "text"
      },
      "source": [
        "<a href=\"https://colab.research.google.com/github/dlsun/Stat425F19/blob/master/Normal_Distribution.ipynb\" target=\"_parent\"><img src=\"https://colab.research.google.com/assets/colab-badge.svg\" alt=\"Open In Colab\"/></a>"
      ]
    },
    {
      "cell_type": "code",
      "metadata": {
        "id": "Z9hAmMD8dOvL",
        "colab_type": "code",
        "cellView": "form",
        "colab": {}
      },
      "source": [
        "#@title Imports\n",
        "!pip install -q symbulate\n",
        "from symbulate import *"
      ],
      "execution_count": 0,
      "outputs": []
    },
    {
      "cell_type": "markdown",
      "metadata": {
        "id": "khmLUc2hduyf",
        "colab_type": "text"
      },
      "source": [
        "# Normal Distribution\n",
        "\n",
        "The normal distribution is the most important distribution in probability and statistics.  The reason has to do with asymptotic theory ($n \\to \\infty$), which will be covered in STAT 426.\n",
        "\n",
        "The normal distribution goes by other names:\n",
        "- Gaussian distribution (especially common in engineering)\n",
        "- the bell curve"
      ]
    },
    {
      "cell_type": "markdown",
      "metadata": {
        "id": "SN0ZTjz2nyY3",
        "colab_type": "text"
      },
      "source": [
        "## The Standard Normal Distribution\n",
        "\n",
        "A random variable $Z$ with a standard normal distribution is described by the following p.d.f. \n",
        "\n",
        "$$ p(z) = \\frac{1}{\\sqrt{2\\pi}} e^{-z^2 / 2}. $$\n",
        "\n",
        "It is defined for all real values $z$, from $-\\infty$ to $\\infty$.\n",
        "\n",
        "The distribution looks like this:"
      ]
    },
    {
      "cell_type": "code",
      "metadata": {
        "id": "skdiYsogeFLo",
        "colab_type": "code",
        "colab": {}
      },
      "source": [
        "Normal().plot()"
      ],
      "execution_count": 0,
      "outputs": []
    },
    {
      "cell_type": "markdown",
      "metadata": {
        "id": "Z0PHHqp-_B_m",
        "colab_type": "text"
      },
      "source": [
        "### Calculating Probabilities"
      ]
    },
    {
      "cell_type": "markdown",
      "metadata": {
        "id": "RpvbKY5P8mtr",
        "colab_type": "text"
      },
      "source": [
        "To calculate probabilities, we integrate the p.d.f. over the relevant region. For example,\n",
        "\n",
        "$$ P(Z \\leq 1) = \\int_{-\\infty}^1 \\frac{1}{\\sqrt{2\\pi}} e^{-z^2 / 2}\\,dz. $$\n",
        "\n",
        "Unlike other continuous distributions we have studied, the p.d.f. $p(z)$ has no elementary antiderivative. That means that you will not be able to evaluate this integral by paper and pencil, using techniques you learned in calculus. It has to be evaluated numerically. Fortunately, you can do this easily in Symbulate. \n",
        "\n",
        "For example, $P(Z \\leq 1)$ is just the c.d.f. evaluated at $1$. The c.d.f. of the standard normal distribution is often represented by $\\Phi(z)$. So we need to calculate $\\Phi(1)$."
      ]
    },
    {
      "cell_type": "code",
      "metadata": {
        "id": "mTibAOrh9W33",
        "colab_type": "code",
        "colab": {}
      },
      "source": [
        "Normal().cdf(1)"
      ],
      "execution_count": 0,
      "outputs": []
    },
    {
      "cell_type": "markdown",
      "metadata": {
        "id": "aka8kI3-9q56",
        "colab_type": "text"
      },
      "source": [
        "How would you calculate $P(-2 < Z < 2)$?"
      ]
    },
    {
      "cell_type": "code",
      "metadata": {
        "id": "u24G4PUV9w9W",
        "colab_type": "code",
        "colab": {}
      },
      "source": [
        "# YOUR CODE HERE"
      ],
      "execution_count": 0,
      "outputs": []
    },
    {
      "cell_type": "markdown",
      "metadata": {
        "id": "haAHDnsEZ3KN",
        "colab_type": "text"
      },
      "source": [
        "### Where does the $\\frac{1}{\\sqrt{2\\pi}}$ come from? (optional)\n",
        "\n"
      ]
    },
    {
      "cell_type": "markdown",
      "metadata": {
        "id": "zK8RPBl6aA5G",
        "colab_type": "text"
      },
      "source": [
        "The $\\frac{1}{\\sqrt{2\\pi}}$ turns out to be precisely the constant we need to make the total probability equal to 1. It seems oddly precise for a function that has no closed form antiderivative. Where does it come from?\n",
        "\n",
        "We need to show that \n",
        "$$ I \\overset{def}{=} \\int_{-\\infty}^\\infty e^{-x^2 / 2}\\,dx = \\sqrt{2\\pi}. $$\n",
        "\n",
        "To do this, we will calculate \n",
        "$$ I^2 = \\left(\\int_{-\\infty}^\\infty e^{-x^2/2}\\,dx \\right) \\left(\\int_{-\\infty}^\\infty e^{-y^2/2}\\,dy \\right), $$\n",
        "which we can write as the double integral \n",
        "$$ \\int_{-\\infty}^\\infty \\int_{-\\infty}^\\infty e^{-x^2/2} e^{-y^2/2}\\,dx\\,dy. $$\n",
        "Now we change to polar coordinates $(x, y) \\mapsto (r, \\theta)$. Remembering that $r^2 = x^2 + y^2$ and $dx\\,dy = r\\,dr\\,d\\theta$, we have \n",
        "$$ \\int_{0}^{2\\pi}\\int_{0}^\\infty e^{-r^2/2} r\\,dr\\,d\\theta. $$\n",
        "Now the inner integral over $r$ is a simple $u$-substitution. (Let $u = r^2 / 2$ so that $du = r\\,dr$.) The inner integral evaluates to $1$; integrating the constant function $1$ from $\\theta=0$ to $2\\pi$ yields $2\\pi$. So \n",
        "$$ I^2 = 2\\pi $$\n",
        "and \n",
        "$$ I = \\sqrt{2\\pi}.$$"
      ]
    },
    {
      "cell_type": "markdown",
      "metadata": {
        "id": "Djf8EtTk-E5U",
        "colab_type": "text"
      },
      "source": [
        "## The (General) Normal Distribution\n",
        "\n",
        "The standard normal distribution is centered at 0 with a variance of 1. In general, we can\n",
        "- scale the bell shape to be as wide as we want, \n",
        "- shift the bell shape to be centered wherever we want.\n",
        "\n",
        "If $Z$ is standard normal, then \n",
        "$$ X = \\mu + \\sigma Z $$\n",
        "is $\\text{Normal}(\\mu, \\sigma)$."
      ]
    },
    {
      "cell_type": "code",
      "metadata": {
        "id": "EZ1edWKC_yow",
        "colab_type": "code",
        "colab": {}
      },
      "source": [
        "Normal().plot()\n",
        "Normal(mean=0, sd=2).plot()\n",
        "Normal(mean=3, sd=0.5).plot()"
      ],
      "execution_count": 0,
      "outputs": []
    },
    {
      "cell_type": "markdown",
      "metadata": {
        "id": "wkwLuq0iiYL7",
        "colab_type": "text"
      },
      "source": [
        "# Example\n",
        "\n",
        "A binary communications system transmits either a $+2$V signal or a $-2$V signal. The signal incurs Gaussian noise with mean $0$V and standard deviation $1.5$V in the transmission process so that the received signal is \n",
        "$$ X = v + N, $$\n",
        "where $v =$ transmitted voltage and $N =$ noise.\n",
        "\n",
        "The receiver judges the intended signal by whether the received voltage is positive or negative. For example, if the received voltage is negative, the receiver infers the intended signal was $-2$V."
      ]
    },
    {
      "cell_type": "code",
      "metadata": {
        "id": "U6J8ZJhIiQK8",
        "colab_type": "code",
        "colab": {}
      },
      "source": [
        "Normal(mean=-2, sd=1.5).plot()\n",
        "Normal(mean=2, sd=1.5).plot()"
      ],
      "execution_count": 0,
      "outputs": []
    },
    {
      "cell_type": "markdown",
      "metadata": {
        "id": "BfXV43biBXY5",
        "colab_type": "text"
      },
      "source": [
        "### Question 1.\n",
        "\n",
        "If a $-2$V signal is sent, what is the probability the receiver makes the wrong judgment?"
      ]
    },
    {
      "cell_type": "markdown",
      "metadata": {
        "id": "4-QBuLAgC6zb",
        "colab_type": "text"
      },
      "source": [
        "**Modern Way**\n",
        "\n",
        "Note that $X$ is a $\\text{Normal}(\\mu=-2, \\sigma=1.5)$ random variable, and we are interested in $P(X > 0)$."
      ]
    },
    {
      "cell_type": "code",
      "metadata": {
        "id": "BVz-coXMC4AA",
        "colab_type": "code",
        "colab": {}
      },
      "source": [
        "1 - Normal(mean=-2, sd=1.5).cdf(0)"
      ],
      "execution_count": 0,
      "outputs": []
    },
    {
      "cell_type": "markdown",
      "metadata": {
        "id": "-PCglPWZC8wk",
        "colab_type": "text"
      },
      "source": [
        "**In the olden days...**\n",
        "\n",
        "Since $X$ is $\\text{Normal}(\\mu=-2, \\sigma=1.5)$, we know that $X = -2 + 1.5 Z$, where $Z$ is standard normal. In other words, $Z = \\frac{X - (-2)}{1.5}$. This process---subtracting the mean and dividing by the standard deviation---is called _standardization_. \n",
        "\n",
        "By standardizing, we reduce the problem to a probability under the standard normal distribution:\n",
        "\n",
        "$$ P(X > 0) = P\\left(\\frac{X - (-2)}{1.5} > \\frac{0 - (-2)}{1.5}\\right) = P(Z > 1.33). $$\n",
        "\n",
        "How do we find this probability? By looking it up in a table of standard normal probabilities, [like this one](https://web.calpoly.edu/~dsun09/tables/normal_cdf_table.pdf). This table gives us the value of the standard normal c.d.f. $\\Phi(z)$ at different values. We see that $\\Phi(1.3) = 0.903$, so\n",
        "\n",
        "$$ P(Z > 1.33) = 1 - P(Z \\leq 1.33) = 1 - \\Phi(1.33) \\approx 1 - 0.903 = 0.097. $$"
      ]
    },
    {
      "cell_type": "markdown",
      "metadata": {
        "id": "eWHCtKipAGVJ",
        "colab_type": "text"
      },
      "source": [
        "### Question 2.\n",
        "\n",
        "If a $-2$V signal is sent, what is the 99th percentile of the received voltage? That is, what is the voltage $x$ such that $P(X \\leq x) = .99$."
      ]
    },
    {
      "cell_type": "markdown",
      "metadata": {
        "id": "R0QFWrrkFY4e",
        "colab_type": "text"
      },
      "source": [
        "You are familiar with the c.d.f., which translates values $x$ into probabilities. But to answer this question, we need something like the inverse of the c.d.f., that translates a probability, like $.99$, into values $x$.\n",
        "\n",
        "That function is called the **quantile function**."
      ]
    },
    {
      "cell_type": "code",
      "metadata": {
        "id": "8AuH4k3AFEUx",
        "colab_type": "code",
        "colab": {}
      },
      "source": [
        "Normal(mean=-2, sd=1.5).quantile(.99)"
      ],
      "execution_count": 0,
      "outputs": []
    },
    {
      "cell_type": "markdown",
      "metadata": {
        "id": "13sAf_mzGJE9",
        "colab_type": "text"
      },
      "source": [
        "So there is a $0.99$ probability that the received voltage is less than 1.49. Out of an abundance of caution, let's double check this using the c.d.f."
      ]
    },
    {
      "cell_type": "code",
      "metadata": {
        "id": "4K2s06RQFP_1",
        "colab_type": "code",
        "colab": {}
      },
      "source": [
        "Normal(mean=-2, sd=1.5).cdf(1.49)"
      ],
      "execution_count": 0,
      "outputs": []
    },
    {
      "cell_type": "markdown",
      "metadata": {
        "id": "RSfBxjAXGc4-",
        "colab_type": "text"
      },
      "source": [
        "### Question 3.\n",
        "\n",
        "Suppose we want to reduce the probability that the receiver makes the wrong judgment to 1%. How much would we have to reduce the standard deviation of the noise?"
      ]
    },
    {
      "cell_type": "markdown",
      "metadata": {
        "id": "34xxatBti-bm",
        "colab_type": "text"
      },
      "source": [
        "Now, the received signal $X$ follows a $\\text{Normal}(\\mu=-2, \\sigma)$ distribution, where $\\sigma$ is unknown. Our job is to find $\\sigma$ so that $P(X > 0) = .01$.\n",
        "\n",
        "Standardization can help here. We know that $Z = \\frac{X - (-2)}{\\sigma}$ follows a standard normal distribution, so we need \n",
        "\n",
        "$$.01 = P(X > 0) = P\\left(Z > \\frac{0 - (-2)}{\\sigma}\\right) = P(Z > 2 / \\sigma). $$\n",
        "\n",
        "If we can find the value of $z$ that achieves $P(Z > z) = .01$, then we can set it equal to $2/\\sigma$ and solve for $\\sigma$. \n",
        "\n",
        "Note that $P(Z > z) = .01$ is equivalent to $P(Z \\leq z) = .99$, so we just need a quantile of the standard normal distribution."
      ]
    },
    {
      "cell_type": "code",
      "metadata": {
        "id": "bbziaw-SGN0_",
        "colab_type": "code",
        "colab": {}
      },
      "source": [
        "Normal().quantile(.99)"
      ],
      "execution_count": 0,
      "outputs": []
    },
    {
      "cell_type": "markdown",
      "metadata": {
        "id": "TU4UKn67lBRK",
        "colab_type": "text"
      },
      "source": [
        "So we need $2/\\sigma = 2.326$, or $\\sigma = 0.86$. We would need to reduce the standard deviation by about 40% relative to its current value of $1.5$."
      ]
    },
    {
      "cell_type": "code",
      "metadata": {
        "id": "wrUybdk6lbJz",
        "colab_type": "code",
        "colab": {}
      },
      "source": [
        "Normal(mean=-2, sd=1.5).plot(xlim=(-6, 6))\n",
        "Normal(mean=-2, sd=0.86).plot(xlim=(-6, 6))"
      ],
      "execution_count": 0,
      "outputs": []
    }
  ]
}