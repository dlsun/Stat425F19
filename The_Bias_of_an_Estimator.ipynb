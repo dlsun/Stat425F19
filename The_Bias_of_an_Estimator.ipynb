{
  "nbformat": 4,
  "nbformat_minor": 0,
  "metadata": {
    "kernelspec": {
      "display_name": "Python 3",
      "language": "python",
      "name": "python3"
    },
    "language_info": {
      "codemirror_mode": {
        "name": "ipython",
        "version": 3
      },
      "file_extension": ".py",
      "mimetype": "text/x-python",
      "name": "python",
      "nbconvert_exporter": "python",
      "pygments_lexer": "ipython3",
      "version": "3.6.8"
    },
    "colab": {
      "name": "The Bias of an Estimator",
      "provenance": [],
      "collapsed_sections": [
        "uXofhDeKs3R7",
        "hw8nMxGO0nIA",
        "zMbfWCeLs3SN",
        "QgehE7uI0hPD",
        "iTpmMreEpM5A",
        "xUjUtL-Ko6E9",
        "VI_iFN9iqEH8"
      ],
      "include_colab_link": true
    }
  },
  "cells": [
    {
      "cell_type": "markdown",
      "metadata": {
        "id": "view-in-github",
        "colab_type": "text"
      },
      "source": [
        "<a href=\"https://colab.research.google.com/github/dlsun/Stat425F19/blob/master/The_Bias_of_an_Estimator.ipynb\" target=\"_parent\"><img src=\"https://colab.research.google.com/assets/colab-badge.svg\" alt=\"Open In Colab\"/></a>"
      ]
    },
    {
      "cell_type": "code",
      "metadata": {
        "id": "QWYFvZTms3R-",
        "colab_type": "code",
        "cellView": "form",
        "colab": {}
      },
      "source": [
        "#@title Imports\n",
        "!pip install -q symbulate\n",
        "from symbulate import *"
      ],
      "execution_count": 0,
      "outputs": []
    },
    {
      "cell_type": "markdown",
      "metadata": {
        "id": "uXofhDeKs3R7",
        "colab_type": "text"
      },
      "source": [
        "# Review of the First Lecture\n",
        "\n",
        "![](https://github.com/dlsun/Stat425F19/blob/master/notes/img/prob_stat.png?raw=1)"
      ]
    },
    {
      "cell_type": "markdown",
      "metadata": {
        "id": "nAflF4A8s3SC",
        "colab_type": "text"
      },
      "source": [
        "## Example 1\n",
        "\n",
        "A coin is tossed 100 times."
      ]
    },
    {
      "cell_type": "markdown",
      "metadata": {
        "id": "hw8nMxGO0nIA",
        "colab_type": "text"
      },
      "source": [
        "### Probability Question \n",
        "\n",
        "Suppose the coin has probability $0.5$ of coming up heads. What is the probability of observing 60 heads in the 100 tosses?"
      ]
    },
    {
      "cell_type": "code",
      "metadata": {
        "id": "pgw6UWDSs3SD",
        "colab_type": "code",
        "colab": {}
      },
      "source": [
        "# 1 = heads, 0 = tails\n",
        "model = BoxModel([0, 1], size=100, replace=True)\n",
        "model.sim(5)"
      ],
      "execution_count": 0,
      "outputs": []
    },
    {
      "cell_type": "code",
      "metadata": {
        "id": "9okl-_DEs3SF",
        "colab_type": "code",
        "colab": {}
      },
      "source": [
        "# Adding up the 0s and 1s gives the number of 1s (i.e., heads)\n",
        "X = RV(model, sum)\n",
        "X.sim(5)"
      ],
      "execution_count": 0,
      "outputs": []
    },
    {
      "cell_type": "code",
      "metadata": {
        "id": "uFppSpiws3SI",
        "colab_type": "code",
        "colab": {}
      },
      "source": [
        "# Simulate many instances and count how many are equal to 60.\n",
        "X.sim(10000).count_eq(60) / 10000"
      ],
      "execution_count": 0,
      "outputs": []
    },
    {
      "cell_type": "markdown",
      "metadata": {
        "id": "zMbfWCeLs3SN",
        "colab_type": "text"
      },
      "source": [
        "### Statistics Question\n",
        "\n",
        "The coin may or may not be fair; it has some probability $p$ of coming up heads. But we observed 60 heads in 100 tosses. Based on this data, how do we estimate $p$?"
      ]
    },
    {
      "cell_type": "markdown",
      "metadata": {
        "id": "wY5HBnSzs3SO",
        "colab_type": "text"
      },
      "source": [
        "Intuitively, $\\hat p = 60 / 100 = 0.6$. Is this estimate good or not? It's hard to say for certain whether an individual estimate is good. After all, even a fair coin ($p = 0.5$) could come up heads 100 / 100 times, in which case the estimate would be $\\hat p = 100 / 100 = 1.0$, which is a terrible estimate.\n",
        "\n",
        "Even though we cannot evaluate individual estimates, we can evaluate the _procedure_ for coming up with the estimate, given data. This procedure is called the **estimator**.\n",
        "\n",
        "The procedure that we followed to come with $\\hat p = 0.6$ is this: take the number of heads in the data and divide by the number of tosses. Let's evaluate this estimator by simulation."
      ]
    },
    {
      "cell_type": "code",
      "metadata": {
        "id": "hbZNm7Q-s3SO",
        "colab_type": "code",
        "colab": {}
      },
      "source": [
        "# Suppose the coin is fair (p = 0.5)\n",
        "model = BoxModel([0, 1], size=100, replace=True)\n",
        "\n",
        "# Define the estimator\n",
        "def estimator(data):\n",
        "    # number of heads divided by the number of tosses\n",
        "    return sum(data) / len(data)\n",
        "p_hat = RV(model, estimator)\n",
        "\n",
        "# Now simulate many estimates.\n",
        "p_hat.sim(5)"
      ],
      "execution_count": 0,
      "outputs": []
    },
    {
      "cell_type": "code",
      "metadata": {
        "id": "cucAeWY1s3SR",
        "colab_type": "code",
        "colab": {}
      },
      "source": [
        "# Make a plot of these estimates.\n",
        "p_hat.sim(10000).plot()"
      ],
      "execution_count": 0,
      "outputs": []
    },
    {
      "cell_type": "markdown",
      "metadata": {
        "id": "MxdAOv3ps3ST",
        "colab_type": "text"
      },
      "source": [
        "We simulated the data from a model where the true probability of heads was $p = 0.5$. We see that the estimated probability is not always $0.5$ exactly. It is sometimes more, sometimes less. But in expectation, it is equal to $0.5$. Let's check this."
      ]
    },
    {
      "cell_type": "code",
      "metadata": {
        "id": "oieGlPiIs3SU",
        "colab_type": "code",
        "colab": {}
      },
      "source": [
        "p_hat.sim(1000).mean()"
      ],
      "execution_count": 0,
      "outputs": []
    },
    {
      "cell_type": "markdown",
      "metadata": {
        "id": "Ba6_NVeTs3SW",
        "colab_type": "text"
      },
      "source": [
        "The difference between this expectation and the truth is called the **bias** of the estimator.\n",
        "\n",
        "$$ \\text{bias} = E[\\text{estimate} ] - \\text{truth} $$\n",
        "\n",
        "The simulation shows that the bias of $\\hat p$ is $0$, at least when the true value of $p$ is $0.5$."
      ]
    },
    {
      "cell_type": "markdown",
      "metadata": {
        "id": "QgehE7uI0hPD",
        "colab_type": "text"
      },
      "source": [
        "# The Bias of an Estimator\n",
        "\n",
        "In general, the bias of an estimator $\\hat\\theta$ is defined as \n",
        "\n",
        "$$ \\text{bias}(\\theta) = E_\\theta[\\hat\\theta] - \\theta. $$\n",
        "\n",
        "Note that the bias may be different for different values of $\\theta$, so it is a function of $\\theta$."
      ]
    },
    {
      "cell_type": "markdown",
      "metadata": {
        "id": "iTpmMreEpM5A",
        "colab_type": "text"
      },
      "source": [
        "## Example 1 Revisited\n",
        "\n",
        "Let's calculate the bias of $\\hat p$ for _all_ values of $p$, not just $p = 0.5$."
      ]
    },
    {
      "cell_type": "markdown",
      "metadata": {
        "id": "rmewFxZvn0YS",
        "colab_type": "text"
      },
      "source": [
        "Note that $\\hat p = X / 100$, where $X$ is the number of heads. Note that $X$ is a $\\text{Binomial}(n=100, p)$ random variable.\n",
        "\n",
        "To calculate the bias, we first need to calculate $E_p[\\hat p]$:\n",
        "$$ E_p[\\hat p] = E[X/100] = \\frac{1}{100} E[X] = \\frac{1}{100} (100 \\cdot p) = p. $$\n",
        "\n",
        "Therefore, the bias of $\\hat p$ (as a function of $p$) is \n",
        "\\begin{align}\n",
        "\\text{bias} &= E_p[\\hat p] - p \\\\\n",
        "&= p - p \\\\\n",
        "&= 0\n",
        "\\end{align}\n",
        "for all values of $p$.\n",
        "\n",
        "An estimator with a bias of $0$ for all values of the parameter is said to be **unbiased**."
      ]
    },
    {
      "cell_type": "markdown",
      "metadata": {
        "id": "xUjUtL-Ko6E9",
        "colab_type": "text"
      },
      "source": [
        "## Example 2\n",
        "\n",
        "Let $X_1, \\ldots, X_n$ be i.i.d. $\\text{Normal}(\\mu, \\sigma=1)$, where $\\mu$ is the parameter to be estimated. We know that the MLE of $\\mu$ is \n",
        "$$ \\hat\\mu = \\frac{1}{n} \\sum_{i=1}^n X_i. $$\n",
        "Calculate the bias of $\\hat\\mu$ (as a function of $\\mu$). Is it unbiased?"
      ]
    },
    {
      "cell_type": "markdown",
      "metadata": {
        "id": "skHD5CqS0Tzs",
        "colab_type": "text"
      },
      "source": [
        "First, we calculate the expected value:\n",
        "\\begin{align}\n",
        "E_\\mu[\\hat\\mu] &= E_\\mu\\left[\\frac{1}{n} \\sum_{i=1}^n X_i \\right] \\\\\n",
        "&= \\frac{1}{n} E_\\mu\\left[ \\sum_{i=1}^n X_i \\right] \\\\\n",
        "&= \\frac{1}{n} \\sum_{i=1}^n E[X_i] & \\text{(linearity of expectation)} \\\\\n",
        "&= \\frac{1}{n} \\sum_{i=1}^n \\mu \\\\\n",
        "&= \\frac{1}{n} n \\mu \\\\\n",
        "&= \\mu.\n",
        "\\end{align}\n",
        "\n",
        "Therefore, the bias is \n",
        "$$ \\text{bias} = \\mu - \\mu = 0 $$"
      ]
    },
    {
      "cell_type": "markdown",
      "metadata": {
        "id": "VI_iFN9iqEH8",
        "colab_type": "text"
      },
      "source": [
        "## Example 3\n",
        "\n",
        "Let $X$ be a $\\text{NegativeBinomial}(r=1, p)$ random variable. Suppose we observe $X = 5$. The MLE of $p$ is $\\hat p = 1/5$. What is the bias of this estimator?"
      ]
    },
    {
      "cell_type": "markdown",
      "metadata": {
        "id": "-aM880PApRxO",
        "colab_type": "text"
      },
      "source": [
        "First, we cannot judge whether $1/5$ is a good estimate of $p$ or not. We can only judge whether the procedure for estimating $p$ is good or not.\n",
        "\n",
        "The \"procedure\", or estimator, is $\\hat p = 1 / X$. To calculate its bias, we first evaluate its expected value for different values of $p$:\n",
        "\\begin{align}\n",
        "E_p[\\hat p] &= E_p[1 / X] \\\\\n",
        "&= \\sum_{x=1}^\\infty 1/x \\cdot (1-p)^{x-1} p \\\\\n",
        "&= -\\frac{p\\log p}{1-p}\n",
        "\\end{align}\n",
        "So the bias is \n",
        "$$ \\text{bias} = -\\frac{p\\log p}{1-p} - p. $$\n",
        "\n",
        "This estimator is not unbiased. Its bias changes, depending on the value of $p$."
      ]
    }
  ]
}