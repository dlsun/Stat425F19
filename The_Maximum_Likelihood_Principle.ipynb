{
  "nbformat": 4,
  "nbformat_minor": 0,
  "metadata": {
    "colab": {
      "name": "The Maximum Likelihood Principle",
      "provenance": [],
      "collapsed_sections": []
    },
    "kernelspec": {
      "name": "python3",
      "display_name": "Python 3"
    }
  },
  "cells": [
    {
      "cell_type": "code",
      "metadata": {
        "id": "c7FXZ6syIAUD",
        "colab_type": "code",
        "cellView": "form",
        "colab": {}
      },
      "source": [
        "#@title Imports\n",
        "!pip install -q \"symbulate==0.5.5\"\n",
        "from symbulate import *\n",
        "\n",
        "import matplotlib.pyplot as plt\n",
        "%matplotlib inline"
      ],
      "execution_count": 0,
      "outputs": []
    },
    {
      "cell_type": "code",
      "metadata": {
        "id": "RIZhJdrR4iGk",
        "colab_type": "code",
        "cellView": "form",
        "colab": {}
      },
      "source": [
        "#@title Define Plotting Functions\n",
        "\n",
        "def plot_discrete_function(f, xlim=(0, 10), xlabel=r\"$\\theta$\", ylabel=\"Likelihood\"):\n",
        "  xs = np.arange(np.ceil(xlim[0]), np.floor(xlim[1]) + 1, dtype=int)\n",
        "  ys = [f(x) for x in xs]\n",
        "  plt.plot(xs, ys, \"ko-\")\n",
        "  plt.xlabel(xlabel, fontsize=18)\n",
        "  plt.ylabel(ylabel, fontsize=18)\n",
        "  plt.xlim(*xlim)\n",
        "\n",
        "def plot_continuous_function(f, xlim=(0, 1), xlabel=r\"$\\theta$\", ylabel=\"Likelihood\"):\n",
        "  xs = np.linspace(xlim[0], xlim[1], 1000)\n",
        "  ys = [f(x) for x in xs]\n",
        "  plt.plot(xs, ys, \"k-\")\n",
        "  plt.xlabel(xlabel, fontsize=18)\n",
        "  plt.ylabel(ylabel, fontsize=18)\n",
        "  plt.xlim(*xlim)"
      ],
      "execution_count": 0,
      "outputs": []
    },
    {
      "cell_type": "markdown",
      "metadata": {
        "id": "ApSnu6OPAmub",
        "colab_type": "text"
      },
      "source": [
        "# Maximum Likelihood Principle\n",
        "\n",
        "_Probability Question:_ Suppose we roll a fair die 20 times. What is the probability that six comes up exactly 5 times?\n",
        "\n",
        "The number of sixes follows a $\\text{Binomial}(n=20, p=1/6)$ distribution, so the p.m.f. is \n",
        "\\begin{align}\n",
        "p_{n=20, p=1/6}(x) &= \\binom{20}{x} (1/6)^x (1-1/6)^{20-x}.\n",
        "\\end{align}\n",
        "Plugging in $x=5$ into this formula, we see that the probability is\n",
        "$$p_{n=20, p=1/6}(5) = .1294.$$"
      ]
    },
    {
      "cell_type": "code",
      "metadata": {
        "id": "JTZvZ9fVzg1a",
        "colab_type": "code",
        "colab": {}
      },
      "source": [
        "Binomial(n=20, p=1 / 6).plot()\n",
        "Binomial(n=20, p=1 / 6).pmf(5)"
      ],
      "execution_count": 0,
      "outputs": []
    },
    {
      "cell_type": "markdown",
      "metadata": {
        "id": "wliN8wieKHME",
        "colab_type": "text"
      },
      "source": [
        "_Statistics Question:_ Suppose we roll a _loaded_ die 20 times, and six comes up 5 times. What is our estimate of $p$, the probability of a six?\n",
        "\n",
        "Let's plug in everything we know into the binomial p.m.f.\n",
        "$$ p_{n=20, p}(5) = \\binom{20}{5} p^5 (1-p)^{20-5}. $$\n",
        "\n",
        "Although we are working with the same binomial p.m.f. as before, our perspective has shifted. Before, we were thinking of the probabilities as a function of $x$; now, we are thinking of the probabilities as a function of $p$. We introduce new terminology for this new perspective.\n",
        "\n",
        "The **likelihood** $L$ is the probability as a function of the parameter (e.g., $p, \\mu, N$), which we denote by $\\theta$ in general:\n",
        "$$ L_{x}(\\theta) \\overset{def}{=} p_{\\theta}(x). $$\n",
        "\n",
        "Run the cell below to produce a plot that emphasizes the shift in perspective in going from the p.m.f. $p_\\theta$ to the likelihood $L_x$."
      ]
    },
    {
      "cell_type": "code",
      "metadata": {
        "id": "mRsodZVTMG3U",
        "colab_type": "code",
        "cellView": "form",
        "colab": {}
      },
      "source": [
        "#@title From PMF to Likelihood\n",
        "ps = [1/6, 0.2, 0.23, 0.29] #@param {type:\"raw\"}\n",
        "\n",
        "fig, axes = plt.subplots(1, 2, figsize=(12, 6))\n",
        "ylim = (0, 0.25)\n",
        "axes[0].set_ylim(ylim)\n",
        "\n",
        "# draw plots\n",
        "for p in ps:\n",
        "  Binomial(n=20, p=p).plot(ax=axes[0])\n",
        "  axes[1].plot([p], Binomial(n=20, p=p).pmf(5), 'o')\n",
        "  \n",
        "# make the right plot match the left plot\n",
        "axes[1].set_xlim(0, 1)\n",
        "axes[1].set_ylim(*axes[0].get_ylim())\n",
        "axes[1].spines[\"bottom\"].set_position(\"zero\")\n",
        "  \n",
        "# draw vertical strip at x=5\n",
        "axes[0].vlines(5, ylim[0], ylim[1], alpha=.3, linewidth=4)\n",
        "  \n",
        "# set legend\n",
        "axes[0].legend([\"$p=%s$\" % p for p in ps])\n",
        "axes[1].legend([\"$p=%s$\" % p for p in ps])\n",
        "\n",
        "# set labels\n",
        "axes[0].set_xlabel(\"$x$\", fontsize=18)\n",
        "axes[0].set_ylabel(\"Probability\", fontsize=18)\n",
        "axes[1].set_xlabel(\"$p$\", fontsize=18)\n",
        "axes[1].set_ylabel(\"Likelihood\", fontsize=18);"
      ],
      "execution_count": 0,
      "outputs": []
    },
    {
      "cell_type": "markdown",
      "metadata": {
        "id": "Cmg1BJt4ODHg",
        "colab_type": "text"
      },
      "source": [
        "Now let's plot the entire likelihood function when $X=5$, i.e., $ L_{X=5}(p)$."
      ]
    },
    {
      "cell_type": "code",
      "metadata": {
        "id": "aK9ww6t6ImCr",
        "colab_type": "code",
        "colab": {}
      },
      "source": [
        "def likelihood(p):\n",
        "  return Binomial(n=20, p=p).pmf(5)\n",
        "\n",
        "plot_continuous_function(likelihood, xlim=(0, 1),\n",
        "                         xlabel=\"$p$\", ylabel=\"Likelihood when $X=5$\")\n",
        "\n",
        "# Add the colored points from before.\n",
        "for p in ps:\n",
        "  plt.plot([p], Binomial(n=20, p=p).pmf(5), 'o')"
      ],
      "execution_count": 0,
      "outputs": []
    },
    {
      "cell_type": "markdown",
      "metadata": {
        "id": "_KE2WWiEOTSW",
        "colab_type": "text"
      },
      "source": [
        "How do we use the likelihood to come up with an estimate of $p$? We can choose the value of $p$ that maximizes $L(p)$. This is called the **maximum likelihood estimator**. The maximum likelihood estimate (MLE) when $X = 5$ turns out to be \n",
        "$$ \\hat p_{\\text{MLE}} = 0.25, $$\n",
        "which agrees with our intuition that the answer should be $5 / 20$."
      ]
    },
    {
      "cell_type": "markdown",
      "metadata": {
        "id": "fgET2DF5PIjX",
        "colab_type": "text"
      },
      "source": [
        "What if we had instead observed $X = 8$ sixes instead? What would the maximum likelihood estimate be then?"
      ]
    },
    {
      "cell_type": "code",
      "metadata": {
        "id": "gge0rHxTPGT_",
        "colab_type": "code",
        "colab": {}
      },
      "source": [
        "# YOUR CODE HERE"
      ],
      "execution_count": 0,
      "outputs": []
    },
    {
      "cell_type": "markdown",
      "metadata": {
        "id": "mJOHAC-qPDyW",
        "colab_type": "text"
      },
      "source": [
        "## Maximum Likelihood by Calculus\n",
        "\n",
        "One way to obtain MLEs is to plot the likelihood and eyeball where the maximum occurs. A better way is to use the trick you learned in calculus for maximizing and minimizing functions: take the derivative, set it equal to zero, and solve the equation.\n",
        "\n",
        "That is, to find the $p$ that maximizes\n",
        "$$ L_{X=5}(p) = \\binom{20}{5} p^5 (1-p)^{15}, $$\n",
        "we first take the derivative (don't forget the [product rule](http://tutorial.math.lamar.edu/Classes/CalcI/ProductQuotientRule.aspx) and remember that $p$ is the variable here):\n",
        "$$ L'(p) = \\binom{20}{5} \\left( 5 p^4 \\cdot (1 - p)^{15} - p^5 \\cdot 15 (1 - p)^{14} \\right). $$\n",
        "\n",
        "Now, we know that the $p$ that maximizes this function (the MLE $\\hat p$) satisfies $L'(\\hat p) = 0$. Solving this equation allows us to obtain the _exact_ value of $\\hat p$.\n",
        "\\begin{align}\n",
        "\\binom{20}{5} \\left( 5 \\hat p^4 \\cdot (1 - \\hat p)^{15} - \\hat p^5 \\cdot 15 (1 - \\hat p)^{14} \\right) &= 0 \\\\\n",
        "5 \\hat p^4 \\cdot (1 - \\hat p)^{15} &= \\hat p^5 \\cdot 15 (1 - \\hat p)^{14} \\\\\n",
        "5 (1 - \\hat p) &= 15 \\hat p \\\\\n",
        "\\hat p &= \\frac{5}{20} = 0.25.\n",
        "\\end{align}\n",
        "\n",
        "(Technically, we should also check that $L''(\\hat p) < 0$, so that we are sure that this is a maximum, rather than a minimum.)"
      ]
    },
    {
      "cell_type": "markdown",
      "metadata": {
        "id": "WJ0fYqyQTTDi",
        "colab_type": "text"
      },
      "source": [
        "# Maximum Likelihood for a Discrete Parameter\n",
        "\n",
        "A professor would like to know how many students in her 30-person class has started studying for next week's exam. She asks 7 students at random, and 5 say they have started studying. How should she estimate the number of students in her 30-person class who have started studying?"
      ]
    },
    {
      "cell_type": "markdown",
      "metadata": {
        "id": "NFk68CrsZwjr",
        "colab_type": "text"
      },
      "source": [
        "The number of people in the sample who have started studying is a $\\text{Hypergeometric}(n=7, N_1, N_0=30 - N_1)$ random variable. Let us first plot the p.m.f. for different values of $N_1$."
      ]
    },
    {
      "cell_type": "code",
      "metadata": {
        "id": "ImuiBq4Q7Aih",
        "colab_type": "code",
        "cellView": "form",
        "colab": {}
      },
      "source": [
        "#@title From PMF to Likelihood\n",
        "N1s = [12, 16, 20, 24] #@param {type:\"raw\"}\n",
        "\n",
        "fig, axes = plt.subplots(1, 2, figsize=(12, 6))\n",
        "ylim = (0, 0.45)\n",
        "axes[0].set_ylim(ylim)\n",
        "\n",
        "# draw plots\n",
        "for N1 in N1s:\n",
        "  dist = Hypergeometric(n=7, N1=N1, N0=30 - N1)\n",
        "  dist.plot(ax=axes[0])\n",
        "  axes[1].plot([N1], dist.pmf(5), 'o')\n",
        "  \n",
        "# make the right plot match the left plot\n",
        "axes[1].set_xlim(0, 30)\n",
        "axes[1].set_ylim(*axes[0].get_ylim())\n",
        "axes[1].spines[\"bottom\"].set_position(\"zero\")\n",
        "  \n",
        "# draw vertical strip at x=5\n",
        "axes[0].vlines(5, ylim[0], ylim[1], alpha=.3, linewidth=4)\n",
        "  \n",
        "# set legend\n",
        "axes[0].legend([\"$N_1=%s$\" % N1 for N1 in N1s])\n",
        "axes[1].legend([\"$N_1=%s$\" % N1 for N1 in N1s])\n",
        "\n",
        "# set labels\n",
        "axes[0].set_xlabel(\"$x$\", fontsize=18)\n",
        "axes[0].set_ylabel(\"Probability\", fontsize=18)\n",
        "axes[1].set_xlabel(\"$N_1$\", fontsize=18)\n",
        "axes[1].set_ylabel(\"Likelihood\", fontsize=18);"
      ],
      "execution_count": 0,
      "outputs": []
    },
    {
      "cell_type": "markdown",
      "metadata": {
        "id": "zU_hI6Vm60Sp",
        "colab_type": "text"
      },
      "source": [
        "Here is a general formula for the likelihood in terms of $N_1$:\n",
        "$$ L_{X=5}(N_1) = p_{N_1}(5) = \\frac{\\displaystyle\\binom{N_1}{5} \\binom{30 - N_1}{7 - 5}}{\\displaystyle\\binom{30}{7}}. $$\n",
        "\n",
        "Let's plot this likelihood. Remember that $N_1$ must be an integer, so this is a _discrete_ function."
      ]
    },
    {
      "cell_type": "code",
      "metadata": {
        "id": "S88ziKQAK9QH",
        "colab_type": "code",
        "colab": {}
      },
      "source": [
        "def likelihood(N1):\n",
        "  return Hypergeometric(n=7, N1=N1, N0=30 - N1).pmf(5)\n",
        "\n",
        "plot_discrete_function(likelihood, xlim=(5, 30),\n",
        "                       xlabel=\"$N_1$\", ylabel=\"Likelihood\")"
      ],
      "execution_count": 0,
      "outputs": []
    },
    {
      "cell_type": "markdown",
      "metadata": {
        "id": "RU_qHPdic6DW",
        "colab_type": "text"
      },
      "source": [
        "We see that this likelihood is maximized when $N_1 = 22$, so the MLE is $\\hat N_1 = 22$. (Note that this is different from the \"naive\" estimate $5/7 \\cdot 30 \\approx 21.42$, even when you round to the nearest integer.)"
      ]
    },
    {
      "cell_type": "markdown",
      "metadata": {
        "id": "RjXe1HEbdgdh",
        "colab_type": "text"
      },
      "source": [
        "## Maximum Likelihood by Algebra (optional)\n",
        "\n",
        "Is there a way we could have quickly determined where the likelihood was maximized, without evaluating the likelihood at every possible value of $N_1$? Because the likelihood is not defined when $N_1$ is not an integer, we cannot take its derivative. In other words, the approach above will not work.\n",
        "\n",
        "Here is another approach. Consider the ratio of the likelihood at successive values of $N_1$, $L(N_1) / L(N_1 - 1)$. By comparing this ratio to $1$, we can determine where $L$ is increasing and where $L$ is decreasing. \n",
        "\n",
        "First, let's come up with a simple expression for the ratio.\n",
        "\\begin{align}\n",
        "\\frac{L(N_1)}{L(N_1 - 1)} &= \\frac{\\binom{N_1}{5} \\binom{30 - N_1}{2} \\big/ \\binom{30}{7}}{\\binom{N_1 - 1}{5} \\binom{30 - (N_1 - 1)}{2} \\big/ \\binom{30}{7}} \\\\\n",
        "&= \\frac{\\frac{N_1!}{5! (N_1 - 5)!} \\cdot \\frac{(30 - N_1)!}{2! (28 - N_1)!}}{\\frac{(N_1 - 1)!}{5! (N_1 - 6)!} \\cdot \\frac{(31 - N_1)!}{2! (29 - N_1)!}} \\\\\n",
        "&= \\frac{N_1 (29 - N_1)}{(N_1 - 5)(31 - N_1)}\n",
        "\\end{align}\n",
        "\n",
        "This ratio is $> 1$ if and only if the numerator is greater than the denominator.\n",
        "\\begin{align} \n",
        "N_1 (29 - N_1) &> (N_1 - 5)(31 - N_1) \\\\\n",
        "29 N_1 - N_1^2 &> - N_1^2 + 36 N_1 - 155 \\\\\n",
        "155 &> 7 N_1 \\\\\n",
        "N_1 &< 155/7 \\approx 22.14.\n",
        "\\end{align}\n",
        "So we see that the likelihood will continue to increase up until $N_1 = 22$, after which it decreases. So the maximum is achieved at $\\hat N_1 = 22$."
      ]
    }
  ]
}