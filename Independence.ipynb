{
  "nbformat": 4,
  "nbformat_minor": 0,
  "metadata": {
    "colab": {
      "name": "Independence",
      "provenance": [],
      "collapsed_sections": [
        "KoetoMxJG9UZ",
        "QjYsRRJrKeFg",
        "mEj8AM70MaDL",
        "b95qixtPHoL_"
      ]
    },
    "kernelspec": {
      "name": "python3",
      "display_name": "Python 3"
    }
  },
  "cells": [
    {
      "cell_type": "code",
      "metadata": {
        "id": "Or3JqyBzGdTm",
        "colab_type": "code",
        "cellView": "form",
        "colab": {}
      },
      "source": [
        "#@title Imports\n",
        "!pip install -q symbulate\n",
        "from symbulate import *"
      ],
      "execution_count": 0,
      "outputs": []
    },
    {
      "cell_type": "markdown",
      "metadata": {
        "id": "KoetoMxJG9UZ",
        "colab_type": "text"
      },
      "source": [
        "# Independence\n",
        "\n",
        "In the previous lecture, we quantified the value of the information $A$ by comparing\n",
        "\n",
        "$$ P(B) \\text{ versus } P(B | A). $$\n",
        "\n",
        "For example, knowing that a woman (with two children) has at least one son changes the probability that both her children are boys from $P(B) = 1/4$ to $P(B|A) = 1/3$.\n",
        "\n",
        "If the probability does not change, i.e., \n",
        "\n",
        "$$ P(B) = P(B | A), $$\n",
        "\n",
        "then we say that $A$ and $B$ are **independent**."
      ]
    },
    {
      "cell_type": "markdown",
      "metadata": {
        "id": "QjYsRRJrKeFg",
        "colab_type": "text"
      },
      "source": [
        "## Example 1\n",
        "\n",
        "Suppose we draw 2 tickets, _with replacement_, from a box with $N_1$ $\\fbox{1}$s and $N_0$ $\\fbox{0}$s.\n",
        "\n",
        "Is the event that the first draw is a $\\fbox{1}$ independent of the event that the second draw is a $\\fbox{1}$?"
      ]
    },
    {
      "cell_type": "markdown",
      "metadata": {
        "id": "tz64kOlFLh41",
        "colab_type": "text"
      },
      "source": [
        "Each draw is equally likely to be any of the $N$ tickets. So the (unconditional) probability that any draw is a $\\fbox{1}$ is $\\frac{N_1}{N}$. \n",
        "\n",
        "What if we know that the first draw is a $\\fbox{1}$? Because the ticket is replaced before we draw again, the probability of drawing a $\\fbox{1}$ on the second draw is still $\\frac{N_1}{N}$. \n",
        "\n",
        "\\begin{align}\n",
        "P(\\text{second draw is a $\\fbox{1}$}) &= \\frac{N_1}{N} \\\\\n",
        "P(\\text{second draw is a $\\fbox{1}$}\\ |\\ \\text{first draw is a $\\fbox{1}$}) &= \\frac{N_1}{N} \\\\\n",
        "\\end{align}\n",
        "\n",
        "Since these two probabilities are the same, the two events are independent."
      ]
    },
    {
      "cell_type": "markdown",
      "metadata": {
        "colab_type": "text",
        "id": "mEj8AM70MaDL"
      },
      "source": [
        "## Example 2\n",
        "\n",
        "Suppose we draw 2 tickets, _without replacement_, from a box with $N_1$ $\\fbox{1}$s and $N_0$ $\\fbox{0}$s.\n",
        "\n",
        "Is the event that the first draw is a $\\fbox{1}$ independent of the event that the second draw is a $\\fbox{1}$?"
      ]
    },
    {
      "cell_type": "markdown",
      "metadata": {
        "colab_type": "text",
        "id": "mHpTcB3rMaDM"
      },
      "source": [
        "Each draw is equally likely to be any of the $N$ tickets. So the (unconditional) probability that any draw is a $\\fbox{1}$ is $\\frac{N_1}{N}$. \n",
        "\n",
        "What if we know that the first draw is a $\\fbox{1}$? Now, the ticket is not replaced, so there are only $N-1$ tickets in the box, of which $N_1-1$ are $\\fbox{1}$s. The probability of drawing a $\\fbox{1}$ on the second draw is $\\frac{N_1-1}{N-1}$. \n",
        "\n",
        "\\begin{align}\n",
        "P(\\text{second draw is a $\\fbox{1}$}) &= \\frac{N_1}{N} \\\\\n",
        "P(\\text{second draw is a $\\fbox{1}$}\\ |\\ \\text{first draw is a $\\fbox{1}$}) &= \\frac{N_1-1}{N-1} \\\\\n",
        "\\end{align}\n",
        "\n",
        "Since these two probabilities are different, the two events are _NOT_ independent."
      ]
    },
    {
      "cell_type": "markdown",
      "metadata": {
        "id": "b95qixtPHoL_",
        "colab_type": "text"
      },
      "source": [
        "# Independence = Multiplication\n",
        "\n",
        "If $A$ and $B$ are independent, then the multiplication rule becomes \n",
        "\n",
        "$$ P(A \\cap B) = P(A) P(B). $$ \n",
        "\n",
        "In other words, if we know the probabilities of $A$ and $B$ individually, then we can multiply them to get the joint probabilities.\n",
        "\n"
      ]
    },
    {
      "cell_type": "markdown",
      "metadata": {
        "id": "2zKoVOBkOY6U",
        "colab_type": "text"
      },
      "source": [
        "For example, we saw above that when you draw 2 tickets from a box with replacement, the first and second draws are independent.\n",
        "\n",
        "What is the probability that both draws are $\\fbox{1}$s? Previously, we did this by counting the $N \\cdot N$ equally likely outcomes:\n",
        "\n",
        "$$ P(\\text{both draws are $\\fbox{1}$s}) = \\frac{N_1 \\cdot N_1}{N \\cdot N}. $$\n",
        "\n",
        "However, we could have gotten the same answer using the multiplication rule for independent events:\n",
        "\n",
        "$$ P(\\text{both draws are $\\fbox{1}$s}) = \\frac{N_1}{N} \\cdot \\frac{N_1}{N}. $$"
      ]
    }
  ]
}