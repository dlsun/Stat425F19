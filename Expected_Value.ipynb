{
  "nbformat": 4,
  "nbformat_minor": 0,
  "metadata": {
    "colab": {
      "name": "Expected Value",
      "provenance": []
    },
    "kernelspec": {
      "name": "python3",
      "display_name": "Python 3"
    }
  },
  "cells": [
    {
      "cell_type": "code",
      "metadata": {
        "id": "oJPRneRQugRG",
        "colab_type": "code",
        "cellView": "form",
        "colab": {}
      },
      "source": [
        "#@title Imports\n",
        "!pip install -q symbulate\n",
        "from symbulate import *"
      ],
      "execution_count": 0,
      "outputs": []
    },
    {
      "cell_type": "markdown",
      "metadata": {
        "id": "zE-i5kS8uvCP",
        "colab_type": "text"
      },
      "source": [
        "# Expected Value"
      ]
    },
    {
      "cell_type": "markdown",
      "metadata": {
        "id": "1qyae--4uzDG",
        "colab_type": "text"
      },
      "source": [
        "Suppose we repeatedly toss 9 dice and record the number of sixes. We record the average number of sixes seen so far.\n",
        "\n"
      ]
    },
    {
      "cell_type": "code",
      "metadata": {
        "id": "OvOVYtOAuxon",
        "colab_type": "code",
        "colab": {}
      },
      "source": [
        "model = BoxModel([1, 2, 3, 4, 5, 6], size=9, replace=True)\n",
        "X = RV(model, count_eq(6))\n",
        "\n",
        "(X.sim(10).mean(),\n",
        " X.sim(100).mean(),\n",
        " X.sim(1000).mean(),\n",
        " X.sim(10000).mean())"
      ],
      "execution_count": 0,
      "outputs": []
    },
    {
      "cell_type": "markdown",
      "metadata": {
        "id": "Tx0G1lBTzvTJ",
        "colab_type": "text"
      },
      "source": [
        "Notice that the average seems to approach $1.5$ as the number of simulations increases. Is there some way we could have predicted that it would approach $1.5$, without doing the simulation?\n",
        "\n",
        "The average of the simulations is just their sum, divided by the number of simulations. Let's call the number of simulations $n$ and the number of times the outcome $x$ appeared, $n[x]$. Then:\n",
        "\n",
        "$$ \\text{average of $n$ simulations} = \\frac{\\text{sum of $n$ simulations}}{n} = \\frac{\\sum_x x \\cdot n[x]}{n} = \\sum_x x \\cdot \\frac{n[x]}{n}.  $$ \n",
        "\n",
        "But we know that $n[x] / n \\to p[x]$ as $n \\to \\infty$, by the definition of probability. So, this average will approach \n",
        "\n",
        "$$ \\text{average of $n$ simulations} \\to \\sum_x x \\cdot p[x]. $$\n",
        "\n",
        "For example, in the case of the number of sixes in 9 rolls, we know that the distribution is $\\text{Binomial}(n=9, p=1/6)$, so \n",
        "$$ p[x] = \\binom{9}{x} (1/6)^x (5/6)^{9-x}. $$\n",
        "We can calculate the expected value numerically."
      ]
    },
    {
      "cell_type": "code",
      "metadata": {
        "id": "yXn3yJQjzi3Y",
        "colab_type": "code",
        "colab": {}
      },
      "source": [
        "xs = np.arange(0, 10)\n",
        "terms = xs * Binomial(n=9, p=1/6).pmf(xs)\n",
        "print(terms)\n",
        "terms.sum()"
      ],
      "execution_count": 0,
      "outputs": []
    },
    {
      "cell_type": "markdown",
      "metadata": {
        "id": "EXLm5W7p2R9c",
        "colab_type": "text"
      },
      "source": [
        "We call this number the **expected value** of the random variable. If $X$ is the random variable (e.g., the number of sixes in 9 rolls), then we write \n",
        "\n",
        "$$ E[X] = \\sum_x x \\cdot p[x], $$ \n",
        "\n",
        "where the sum is taken over all possible values of $X$."
      ]
    },
    {
      "cell_type": "markdown",
      "metadata": {
        "id": "OjW05hE039PP",
        "colab_type": "text"
      },
      "source": [
        "The expected value is also called the _mean_ of the random variable. If the random variable has a named distribution (say, $\\text{Binomial}(n=9, p=1/6)$), then the expected value can be queried using Symbulate."
      ]
    },
    {
      "cell_type": "code",
      "metadata": {
        "id": "jDPG-jv2389d",
        "colab_type": "code",
        "colab": {}
      },
      "source": [
        "Binomial(n=9, p=1/6).mean()"
      ],
      "execution_count": 0,
      "outputs": []
    },
    {
      "cell_type": "markdown",
      "metadata": {
        "id": "It7ItjtA4d70",
        "colab_type": "text"
      },
      "source": [
        "# Expected Value as Center of Mass"
      ]
    },
    {
      "cell_type": "markdown",
      "metadata": {
        "id": "G0P3NBLW4j4K",
        "colab_type": "text"
      },
      "source": [
        "Let's plot the p.m.f. of the number of sixes (in 9 rolls) and see where the expected value of 1.5 falls."
      ]
    },
    {
      "cell_type": "code",
      "metadata": {
        "id": "mCcr8Jdx2T0g",
        "colab_type": "code",
        "colab": {}
      },
      "source": [
        "Binomial(n=9, p=1/6).plot()"
      ],
      "execution_count": 0,
      "outputs": []
    },
    {
      "cell_type": "markdown",
      "metadata": {
        "id": "ca_qK5DS4xSK",
        "colab_type": "text"
      },
      "source": [
        "It turns out that the expected value is the point on the $x$-axis where the p.m.f. would balance, if we were to put the p.m.f. on a scale. In other words, it is the _center of mass_. For this reason, when people want to summarize a random variable by a single number, they often choose the expected value."
      ]
    },
    {
      "cell_type": "markdown",
      "metadata": {
        "id": "KpRd3v6q5ZSM",
        "colab_type": "text"
      },
      "source": [
        "Here's a proof. Let $c$ be a candidate pivot point. Any mass to the left of the pivot point exerts negative torque (rotating the system counterclockwise), while any mass to the right exerts positive torque (rotating the system clockwise). The center of mass is the value of $c$ where the positive and negative torques perfectly cancel:\n",
        "\n",
        "$$ \\sum_x \\underbrace{(x - c)}_{\\text{radius}} \\cdot \\underbrace{p[x]}_{\\text{weight}} = 0. $$\n",
        "\n",
        "Expanding the sum, we have:\n",
        "\n",
        "$$ \\sum_x x\\cdot p[x] - c \\sum_x p[x] = 0. $$ \n",
        "\n",
        "Since $\\sum_x p[x] = 1$ (probabilities have to add to one), we have: \n",
        "\n",
        "$$ c = \\sum_x x \\cdot p[x]. $$\n",
        "\n",
        "So the center of mass is the expected value."
      ]
    }
  ]
}