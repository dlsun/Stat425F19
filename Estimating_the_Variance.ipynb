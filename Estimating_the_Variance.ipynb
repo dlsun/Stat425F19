{
  "nbformat": 4,
  "nbformat_minor": 0,
  "metadata": {
    "colab": {
      "name": "Estimating the Variance",
      "provenance": [],
      "collapsed_sections": [],
      "include_colab_link": true
    },
    "kernelspec": {
      "name": "python3",
      "display_name": "Python 3"
    }
  },
  "cells": [
    {
      "cell_type": "markdown",
      "metadata": {
        "id": "view-in-github",
        "colab_type": "text"
      },
      "source": [
        "<a href=\"https://colab.research.google.com/github/dlsun/Stat425F19/blob/master/Estimating_the_Variance.ipynb\" target=\"_parent\"><img src=\"https://colab.research.google.com/assets/colab-badge.svg\" alt=\"Open In Colab\"/></a>"
      ]
    },
    {
      "cell_type": "code",
      "metadata": {
        "id": "j_QfvXrMFUaN",
        "colab_type": "code",
        "cellView": "form",
        "colab": {}
      },
      "source": [
        "#@title Import Symbulate\n",
        "!pip install -q symbulate\n",
        "from symbulate import *"
      ],
      "execution_count": 0,
      "outputs": []
    },
    {
      "cell_type": "markdown",
      "metadata": {
        "id": "yV3HeqGF_tdt",
        "colab_type": "text"
      },
      "source": [
        "# The Sample Variance\n",
        "\n",
        "$$\n",
        "\\def\\Var{\\text{Var}}\n",
        "\\def\\Cov{\\text{Cov}}\n",
        "$$"
      ]
    },
    {
      "cell_type": "markdown",
      "metadata": {
        "id": "mT7oX6Xj_2XV",
        "colab_type": "text"
      },
      "source": [
        "## Warm-Up\n",
        "\n",
        "Suppose $X_1, \\ldots, X_n$ are i.i.d. observations from some distribution with mean $\\mu$ and variance $\\sigma^2$. \n",
        "\n",
        "Define $\\displaystyle\\bar X = \\frac{1}{n} \\sum_{i=1}^n X_i$ to be the sample mean.\n",
        "\n",
        "What is $\\Var[\\bar X]$?"
      ]
    },
    {
      "cell_type": "markdown",
      "metadata": {
        "id": "bEwF0JE3AuqA",
        "colab_type": "text"
      },
      "source": [
        "\\begin{align}\n",
        "\\Var[\\bar X] &= \\Var\\left[\\frac{1}{n} \\sum_{i=1}^n X_i\\right] \\\\\n",
        "&= \\Cov\\left[\\frac{1}{n} \\sum_{i=1}^n X_i, \\frac{1}{n} \\sum_{i=1}^n X_i\\right] \\\\\n",
        "&= \\frac{1}{n^2} \\Cov\\left[\\sum_{i=1}^n X_i, \\sum_{i=1}^n X_i\\right] \\\\\n",
        "&= \\frac{1}{n^2} \\left( \\Cov[X_1, X_1] + \\ldots + \\Cov[X_n, X_n] + \\text{all other terms zero} \\right) \\\\\n",
        "&= \\frac{1}{n^2} \\cdot n \\Var[X_1] \\\\\n",
        "&= \\frac{\\sigma^2}{n}\n",
        "\\end{align}\n",
        "\n",
        "In particular, this means that the standard deviation of $\\bar X$ is $\\frac{\\sigma}{\\sqrt{n}}$. This formula is the basis of a lot of statistical methods."
      ]
    },
    {
      "cell_type": "markdown",
      "metadata": {
        "id": "qVcjba4g_7Yi",
        "colab_type": "text"
      },
      "source": [
        "## Estimating the Variance\n",
        "\n",
        "If you know the mean $\\mu$, then the variance $\\sigma^2$ can be estimated by \n",
        "\n",
        "$$ \\hat\\sigma^2 = \\frac{1}{n} \\sum_{i=1}^n (X_i - \\mu)^2. $$\n",
        "\n",
        "Show that $\\hat\\sigma^2$ is unbiased for $\\sigma^2$."
      ]
    },
    {
      "cell_type": "markdown",
      "metadata": {
        "id": "N7Dc3ZZjB0r4",
        "colab_type": "text"
      },
      "source": [
        "But what if we do not know the mean $\\mu$? We have to estimate the mean $\\mu$ by the sample mean $\\bar X$. That is, our estimator is of the form \n",
        "\n",
        "$$ c \\sum_{i=1}^n (X_i - \\bar X)^2, $$\n",
        "\n",
        "where $c$ is some constant. What value of $c$ makes this estimator unbiased for $\\sigma^2$?"
      ]
    },
    {
      "cell_type": "markdown",
      "metadata": {
        "id": "xYXs9FO-CiCD",
        "colab_type": "text"
      },
      "source": [
        "We need to find $c$ to make \n",
        "\n",
        "$$ E\\left[c\\sum_{i=1}^n (X_i - \\bar X)^2\\right] = \\sigma^2. $$\n",
        "\n",
        "Let's calculate $E\\left[\\sum_{i=1}^n (X_i - \\bar X)^2\\right]$ first."
      ]
    },
    {
      "cell_type": "markdown",
      "metadata": {
        "id": "BdtJF5t2CmlX",
        "colab_type": "text"
      },
      "source": [
        "First, let's expand the expression inside the expected value, by adding and subtracting $\\mu$. The following calculation is just algebra; no probability is involved at all!\n",
        "\\begin{align}\n",
        "\\sum_{i=1}^n (X_i - \\bar X)^2 &= \\sum_{i=1}^n (X_i - \\mu + \\mu - \\bar X)^2 \\\\\n",
        "&= \\sum_{i=1}^n (X_i - \\mu)^2 + \\underbrace{\\sum_{i=1}^n (\\bar X - \\mu)^2}_{n(\\bar X - \\mu)^2}  - 2 \\underbrace{\\sum_{i=1}^n (X_i - \\mu)}_{n(\\bar X - \\mu)}(\\bar X - \\mu) \\\\\n",
        "&= \\sum_{i=1}^n (X_i - \\mu)^2 + n(\\bar X - \\mu)^2  - 2 n(\\bar X - \\mu)^2 \\\\\n",
        "&= \\sum_{i=1}^n (X_i - \\mu)^2 - n(\\bar X - \\mu)^2\n",
        "\\end{align}\n",
        "\n",
        "Now we calculate expected values:\n",
        "\\begin{align}\n",
        "E\\left[\\sum_{i=1}^n (X_i - \\bar X)^2\\right] &= \\sum_{i=1}^n E\\left[(X_i - \\mu)^2\\right] - n E\\left[(\\bar X - \\mu)^2\\right] \\\\\n",
        "&= \\sum_{i=1}^n \\Var[X_i] - n\\Var[\\bar X] \\\\\n",
        "&= n \\sigma^2 - n \\frac{\\sigma^2}{n} \\\\\n",
        "&= (n - 1) \\sigma^2\n",
        "\\end{align}\n",
        "\n",
        "So $c$ must be $\\frac{1}{n-1}$ to cancel out the extra factor of $(n-1)$.\n"
      ]
    },
    {
      "cell_type": "markdown",
      "metadata": {
        "id": "tixyhaKKC86I",
        "colab_type": "text"
      },
      "source": [
        "To summarize, we have just shown that \n",
        "\n",
        "$$ S^2 = \\frac{1}{n-1} \\sum_{i=1}^n (X_i - \\bar X)^2 $$\n",
        "\n",
        "is an unbiased estimator of $\\sigma^2$. $S^2$ is typically called the **sample variance**."
      ]
    },
    {
      "cell_type": "markdown",
      "metadata": {
        "id": "DkiVdaSTFvdz",
        "colab_type": "text"
      },
      "source": [
        "Let's do a simulation to confirm that \n",
        "\n",
        "1. dividing by $n$ yields a unbiased estimator when you know the mean $\\mu$ \n",
        "2. dividing by $n-1$ yields an unbiased estimator when you estimate it by $\\bar X$."
      ]
    },
    {
      "cell_type": "code",
      "metadata": {
        "id": "xKMb9oBHFTis",
        "colab_type": "code",
        "colab": {}
      },
      "source": [
        "# Simulate two independent observations from a standard normal.\n",
        "# We know the true variance in this case is 1.\n",
        "X = RV(Normal(0, 1) ** 2)\n",
        "\n",
        "def var_known_mean(x):\n",
        "  n = len(x)\n",
        "  return sum((x - 0) ** 2) / n\n",
        "\n",
        "def var_unknown_mean(x):\n",
        "  n = len(x)\n",
        "  return sum((x - mean(x)) ** 2) / (n - 1)\n",
        "\n",
        "var_known = X.sim(10000).apply(var_known_mean)\n",
        "var_known.plot()\n",
        "var_unknown = X.sim(10000).apply(var_unknown_mean)\n",
        "var_unknown.plot()\n",
        "\n",
        "# If the estimators are unbiased, then the mean is 1.\n",
        "var_known.mean(), var_unknown.mean()"
      ],
      "execution_count": 0,
      "outputs": []
    },
    {
      "cell_type": "markdown",
      "metadata": {
        "id": "JN92iStCGzKh",
        "colab_type": "text"
      },
      "source": [
        "But if we estimate the mean by $\\bar X$ and divide by $n$ (instead of $n-1$), then we end up with a biased estimate of the variance."
      ]
    },
    {
      "cell_type": "code",
      "metadata": {
        "id": "hme1mUU_Gysp",
        "colab_type": "code",
        "colab": {}
      },
      "source": [
        "def var_biased(x):\n",
        "  n = len(x)\n",
        "  return sum((x - mean(x)) ** 2) / n\n",
        "\n",
        "var_biased = X.sim(10000).apply(var_biased)\n",
        "var_biased.plot()\n",
        "\n",
        "# The variance should be 1 on average, but it's not.\n",
        "var_biased.mean()"
      ],
      "execution_count": 0,
      "outputs": []
    }
  ]
}