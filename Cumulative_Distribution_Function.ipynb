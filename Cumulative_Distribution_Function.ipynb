{
  "nbformat": 4,
  "nbformat_minor": 0,
  "metadata": {
    "colab": {
      "name": "Cumulative Distribution Function",
      "provenance": [],
      "collapsed_sections": [
        "lRvCEBe3DeCx",
        "5sMZ7GnORMWO",
        "iBIih4xLRQFa",
        "ODAZQjsIWV0z"
      ]
    },
    "kernelspec": {
      "name": "python3",
      "display_name": "Python 3"
    }
  },
  "cells": [
    {
      "cell_type": "code",
      "metadata": {
        "id": "b3SE9dV3_M9l",
        "colab_type": "code",
        "cellView": "form",
        "colab": {}
      },
      "source": [
        "#@title Imports\n",
        "!pip install -q symbulate\n",
        "from symbulate import *\n",
        "\n",
        "import numpy as np\n",
        "import matplotlib.pyplot as plt\n",
        "%matplotlib inline"
      ],
      "execution_count": 0,
      "outputs": []
    },
    {
      "cell_type": "code",
      "metadata": {
        "id": "4a6wsWFyNeCD",
        "colab_type": "code",
        "cellView": "form",
        "colab": {}
      },
      "source": [
        "#@title Define Plotting Functions\n",
        "\n",
        "def plot_continuous_function(f, xlim=(0, 1), xlabel=\"\", ylabel=\"\", ax=None):\n",
        "  xs = np.linspace(xlim[0], xlim[1], 1000)\n",
        "  ys = [f(x) for x in xs]\n",
        "  if ax is None:\n",
        "    ax = plt.gca()\n",
        "  ax.plot(xs, ys, \"-\")\n",
        "  ax.set_xlabel(xlabel, fontsize=18)\n",
        "  ax.set_ylabel(ylabel, fontsize=18)\n",
        "  ax.set_xlim(*xlim)"
      ],
      "execution_count": 0,
      "outputs": []
    },
    {
      "cell_type": "markdown",
      "metadata": {
        "id": "ZOpwAdMK_HmZ",
        "colab_type": "text"
      },
      "source": [
        "# Cumulative Distribution Function\n",
        "\n",
        "The **cumulative distribution function** (or **c.d.f.**) of a random variable returns the probability a random variable is less than equal to $x$.\n",
        "\n",
        "\n",
        "$$ F(x) \\overset{\\text{def}}{=} P(X \\leq x) $$"
      ]
    },
    {
      "cell_type": "markdown",
      "metadata": {
        "id": "ED4BcNJ4JJw_",
        "colab_type": "text"
      },
      "source": [
        "For example, suppose we toss a coin repeatedly until lands hands. What is the probability it takes at most 4 tosses?"
      ]
    },
    {
      "cell_type": "code",
      "metadata": {
        "colab_type": "code",
        "id": "KTWTIL1tNgqz",
        "colab": {}
      },
      "source": [
        "(NegativeBinomial(r=1, p=.5).pmf([0, 1, 2, 3, 4]).sum(),\n",
        " NegativeBinomial(r=1, p=.5).cdf(4))"
      ],
      "execution_count": 0,
      "outputs": []
    },
    {
      "cell_type": "markdown",
      "metadata": {
        "id": "huOnqqQNNt6k",
        "colab_type": "text"
      },
      "source": [
        "Both discrete and continuous distributions have c.d.f.s. For example, suppose we simulate $R$ from an $\\text{Exponential}(\\lambda=1.5)$ distribution and then draw a circle with radius $R$. We can calculate the probability that the area is greater than 2 in two ways---by integrating the p.d.f. or by using the c.d.f. of $R$:\n",
        "\n",
        "\\begin{align}\n",
        "P(\\pi R^2 > 2) &= P(R > \\sqrt{2/\\pi}) = \\int_{\\sqrt{2 / \\pi}}^\\infty 1.5 e^{-1.5 r}\\,dr & \\text{(integrating the p.d.f.)} \\\\\n",
        "&= 1 - F(\\sqrt{2/\\pi}) & \\text{(using the c.d.f. of $R$)}\n",
        "\\end{align}"
      ]
    },
    {
      "cell_type": "code",
      "metadata": {
        "id": "oJ4pPiNhNonl",
        "colab_type": "code",
        "colab": {}
      },
      "source": [
        "1 - Exponential(1.5).cdf(sqrt(2 / pi))"
      ],
      "execution_count": 0,
      "outputs": []
    },
    {
      "cell_type": "markdown",
      "metadata": {
        "id": "eBhfn_elPEGK",
        "colab_type": "text"
      },
      "source": [
        "## Visualizing the c.d.f."
      ]
    },
    {
      "cell_type": "markdown",
      "metadata": {
        "id": "8HH4zngvPQXZ",
        "colab_type": "text"
      },
      "source": [
        "For a discrete random variable with p.m.f. $p[x]$, we calculate the c.d.f. $F(x)$ by summing all the probabilities up to (and including) $x$:\n",
        "\n",
        "$$ F(x) = \\sum_{t\\leq x} p[t]. $$\n",
        "\n",
        "(Note that we use the dummy variable $t$ inside the summation.)\n",
        "\n",
        "Let's graph the p.m.f. and c.d.f. of the $\\text{NegativeBinomial}(r=1, p=0.5)$ distribution above."
      ]
    },
    {
      "cell_type": "code",
      "metadata": {
        "id": "tuk0ak6_O2pi",
        "colab_type": "code",
        "cellView": "form",
        "colab": {}
      },
      "source": [
        "#@title Graphing the PMF vs. the CDF\n",
        "\n",
        "fig, axes = plt.subplots(2, 1, figsize=(6, 12))\n",
        "\n",
        "NegativeBinomial(r=1, p=0.5).plot(ax=axes[0])\n",
        "plot_continuous_function(NegativeBinomial(r=1, p=0.5).cdf,\n",
        "                         xlim=(0, 10),\n",
        "                         ax=axes[1])\n",
        "\n",
        "axes[0].set_ylabel(\"PMF\", fontsize=16)\n",
        "axes[1].set_ylabel(\"CDF\", fontsize=16)\n",
        "axes[1].set_xlabel(\"$x$\", fontsize=16);"
      ],
      "execution_count": 0,
      "outputs": []
    },
    {
      "cell_type": "markdown",
      "metadata": {
        "id": "BEdFuPjQRM88",
        "colab_type": "text"
      },
      "source": [
        "In general, the c.d.f. of a discrete random variable will be a step function. That's because if a random variable $X$ can only take the values $\\{ 0, 1, 2, 3, ... \\}$, then $P(X \\leq 2.1)$ and $P(X \\leq 2.7)$ are the same; they are both equal to $p[0] + p[1] + p[2]$, since no value between 2 and 3 is a possible outcome."
      ]
    },
    {
      "cell_type": "markdown",
      "metadata": {
        "id": "t1DRgTUNRuft",
        "colab_type": "text"
      },
      "source": [
        "What about a continuous random variable? To calculate $P(X \\leq x)$, we have to integrate the p.d.f. up to $x$:\n",
        "\n",
        "$$ F(x) = \\int_{-\\infty}^x p(t)\\,dt. $$\n",
        "\n",
        "For example, for the $\\text{Exponential}(\\lambda)$ distribution, the c.d.f. is \n",
        "\n",
        "$$ F(x) = \\int_{0}^x \\lambda e^{-\\lambda t}\\,dt = 1 - e^{-\\lambda t}. $$\n",
        "\n",
        "(Check the math for yourself.) Note that the lower limit of the integral is $0$ (rather than $-\\infty$) because $p(t) = 0$ when $t < 0$ for the exponential distribution.\n",
        "\n",
        "Let's also graph the p.d.f.s and c.d.f.s of the $\\text{Exponential}(\\lambda=1.5)$ distribution."
      ]
    },
    {
      "cell_type": "code",
      "metadata": {
        "id": "z-DBA8nEQiPH",
        "colab_type": "code",
        "cellView": "form",
        "colab": {}
      },
      "source": [
        "#@title Graphing the PMF vs. the CDF\n",
        "\n",
        "fig, axes = plt.subplots(2, 1, figsize=(6, 12))\n",
        "\n",
        "Exponential(1.5).plot(ax=axes[0], xlim=(-0.5, 5))\n",
        "plot_continuous_function(Exponential(1.5).cdf,\n",
        "                         xlim=(-0.5, 5),\n",
        "                         ax=axes[1])\n",
        "axes[0].set_xlim(-0.5, 5)\n",
        "\n",
        "axes[0].set_ylabel(\"PDF\", fontsize=16)\n",
        "axes[1].set_ylabel(\"CDF\", fontsize=16)\n",
        "axes[1].set_xlabel(\"$x$\", fontsize=16);"
      ],
      "execution_count": 0,
      "outputs": []
    },
    {
      "cell_type": "markdown",
      "metadata": {
        "id": "4MYXrz_3TRrM",
        "colab_type": "text"
      },
      "source": [
        "In summary, here are the main properties of the c.d.f.:\n",
        "\n",
        "- The c.d.f. never decreases as you move from left to right (i.e., increase $x$).\n",
        "- As $x \\to -\\infty$, $F(x) \\to 0$.\n",
        "- As $x \\to \\infty$, $F(x) \\to 1$.\n",
        "\n",
        "Think about why these properties make intuitive sense."
      ]
    }
  ]
}