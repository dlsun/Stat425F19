{
  "nbformat": 4,
  "nbformat_minor": 0,
  "metadata": {
    "colab": {
      "name": "Models for Continuous Random Variables",
      "provenance": [],
      "collapsed_sections": [
        "UE3VLR31fMzR",
        "KAmx_QGdkL0P",
        "-PUvhvdlgAis"
      ],
      "include_colab_link": true
    },
    "kernelspec": {
      "name": "python3",
      "display_name": "Python 3"
    }
  },
  "cells": [
    {
      "cell_type": "markdown",
      "metadata": {
        "id": "view-in-github",
        "colab_type": "text"
      },
      "source": [
        "<a href=\"https://colab.research.google.com/github/dlsun/Stat425F19/blob/master/Models_for_Continuous_Random_Variables.ipynb\" target=\"_parent\"><img src=\"https://colab.research.google.com/assets/colab-badge.svg\" alt=\"Open In Colab\"/></a>"
      ]
    },
    {
      "cell_type": "code",
      "metadata": {
        "id": "bh8gG7JactHl",
        "colab_type": "code",
        "colab": {},
        "cellView": "form"
      },
      "source": [
        "#@title Imports\n",
        "!pip install -q symbulate\n",
        "from symbulate import *\n",
        "\n",
        "import matplotlib.pyplot as plt"
      ],
      "execution_count": 0,
      "outputs": []
    },
    {
      "cell_type": "markdown",
      "metadata": {
        "id": "TuFi6-KBc0a4",
        "colab_type": "text"
      },
      "source": [
        "# Models for Continuous Random Variables\n",
        "\n",
        "For discrete random variables, we learned several named distributions that could be used as templates, such as the binomial, hypergeometric, negative binomial, and Poisson models. Each of these had parameters that could be varied.\n",
        "\n",
        "For continuous random variables, we also have named distributions: exponential, uniform, normal, and gamma."
      ]
    },
    {
      "cell_type": "markdown",
      "metadata": {
        "id": "UE3VLR31fMzR",
        "colab_type": "text"
      },
      "source": [
        "# Exponential Distribution\n",
        "\n",
        "We have already seen that the time of the first arrival in a Poisson process with rate $\\lambda$ has p.d.f.\n",
        "\n",
        "$$ p(x) = \\begin{cases} \\lambda e^{-\\lambda x} & x \\geq 0 \\\\ 0 & \\textrm{otherwise} \\end{cases}. $$\n",
        "\n",
        "We say that a random variable with a p.d.f. of this form follows an $\\text{Exponential}(\\lambda)$ distribution."
      ]
    },
    {
      "cell_type": "code",
      "metadata": {
        "id": "dAvgnzeSeMRA",
        "colab_type": "code",
        "colab": {}
      },
      "source": [
        "Exponential(rate=0.5).plot()\n",
        "Exponential(rate=1).plot()\n",
        "Exponential(rate=1.5).plot()\n",
        "\n",
        "plt.legend([r\"$\\lambda=0.5$\", r\"$\\lambda=1$\", r\"$\\lambda=1.5$\"])"
      ],
      "execution_count": 0,
      "outputs": []
    },
    {
      "cell_type": "markdown",
      "metadata": {
        "id": "zAmBSIjZf7-D",
        "colab_type": "text"
      },
      "source": [
        "We can calculate probabilities by integration, but it is often easier to just use `.cdf()` in a clever way."
      ]
    },
    {
      "cell_type": "markdown",
      "metadata": {
        "id": "mzKpjclaixD-",
        "colab_type": "text"
      },
      "source": [
        "## Example\n",
        "\n",
        "The lifetime of a lightbulb (in years) follows an $\\text{Exponential}(\\lambda = 0.3 \\text{ deaths per year})$ distribution. What is the probability the lightbulb lasts between 2 and 3 years?"
      ]
    },
    {
      "cell_type": "markdown",
      "metadata": {
        "id": "rquHfUbsiz47",
        "colab_type": "text"
      },
      "source": [
        "Let's call the lifetime $T$. We want to know $P(2 < T < 3)$. If $F$ is the c.d.f. of $T$, this is equivalent to $F(3) - F(2)$."
      ]
    },
    {
      "cell_type": "code",
      "metadata": {
        "id": "Lue0gFTjhhtc",
        "colab_type": "code",
        "colab": {}
      },
      "source": [
        "T = Exponential(rate=0.3)\n",
        "T.cdf(3) - T.cdf(2)"
      ],
      "execution_count": 0,
      "outputs": []
    },
    {
      "cell_type": "markdown",
      "metadata": {
        "id": "-RK8Tqz5jL1t",
        "colab_type": "text"
      },
      "source": [
        "Let's check that this agrees with the answer we would get by integrating.\n",
        "\n",
        "$$ P(2 < T < 3) = \\int_2^3 0.3 e^{-0.3 x}\\,dx = - e^{-0.3(3)} + e^{-0.3(2)} \\approx .1422. $$"
      ]
    },
    {
      "cell_type": "markdown",
      "metadata": {
        "id": "KAmx_QGdkL0P",
        "colab_type": "text"
      },
      "source": [
        "## Memoryless Property\n",
        "\n",
        "Suppose that the lightbulb has lasted $t$ years already. What is the probability it will last an _additional_ $s$ years?\n",
        "\n",
        "(Note: $s, t > 0$.)"
      ]
    },
    {
      "cell_type": "markdown",
      "metadata": {
        "id": "RP8eac89kouP",
        "colab_type": "text"
      },
      "source": [
        "\\begin{align}\n",
        "P(T > t + s | T > t) &= \\frac{P(T > t + s, T > t)}{P(T > t)} \\\\\n",
        "&= \\frac{P(T > t + s)}{P(T > t)} \\\\\n",
        "&= \\frac{e^{-(t + s)}}{e^{-t}} \\\\\n",
        "&= e^{-s} \\\\\n",
        "&= P(T > s)\n",
        "\\end{align}"
      ]
    },
    {
      "cell_type": "markdown",
      "metadata": {
        "id": "zhFOQ2cykeut",
        "colab_type": "text"
      },
      "source": [
        "In other words, the fact that the lightbulb has already lasted $t$ years is of no consequence. Its remaining lifetime is the same as when it was brand new. This is called the **memoryless property** of the exponential distribution."
      ]
    },
    {
      "cell_type": "markdown",
      "metadata": {
        "id": "-PUvhvdlgAis",
        "colab_type": "text"
      },
      "source": [
        "# Uniform Distribution\n",
        "\n",
        "Another useful probability model is the $\\text{Uniform}(a, b)$ distribution.\n",
        "\n",
        "$$ p(x) = \\begin{cases} \\frac{1}{b-a} & a < x < b \\\\ 0 & \\textrm{otherwise} \\end{cases}. $$"
      ]
    },
    {
      "cell_type": "code",
      "metadata": {
        "id": "OjHuQiCefVzv",
        "colab_type": "code",
        "colab": {}
      },
      "source": [
        "Uniform(a=0, b=1).plot(xlim=(-3.1, 3.1))\n",
        "Uniform(a=-1, b=2).plot(xlim=(-3.1, 3.1))\n",
        "Uniform(a=2.5, b=3).plot(xlim=(-3.1, 3.1))\n",
        "\n",
        "plt.legend([r\"$a=0, b=1$\", r\"$a=-1, b=2$\", r\"$a=2.5, b=3$\"])"
      ],
      "execution_count": 0,
      "outputs": []
    },
    {
      "cell_type": "markdown",
      "metadata": {
        "id": "B3OW6pGhjrLR",
        "colab_type": "text"
      },
      "source": [
        "Probabilities for the uniform can be calculated by integrating. However, you will usually be integrating a constant, so the areas can also be calculated using geometry (i.e., area of a rectangle)."
      ]
    }
  ]
}