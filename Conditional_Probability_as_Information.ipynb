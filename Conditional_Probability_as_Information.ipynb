{
  "nbformat": 4,
  "nbformat_minor": 0,
  "metadata": {
    "colab": {
      "name": "Conditional Probability as Information",
      "provenance": [],
      "collapsed_sections": [
        "KoetoMxJG9UZ",
        "ZhR_w-RqUVma",
        "o-SH7BM0B1T6"
      ]
    },
    "kernelspec": {
      "name": "python3",
      "display_name": "Python 3"
    }
  },
  "cells": [
    {
      "cell_type": "code",
      "metadata": {
        "id": "Or3JqyBzGdTm",
        "colab_type": "code",
        "cellView": "form",
        "colab": {}
      },
      "source": [
        "#@title Imports\n",
        "!pip install -q symbulate\n",
        "from symbulate import *"
      ],
      "execution_count": 0,
      "outputs": []
    },
    {
      "cell_type": "markdown",
      "metadata": {
        "id": "KoetoMxJG9UZ",
        "colab_type": "text"
      },
      "source": [
        "# Conditional Probability as Information\n",
        "\n",
        "You know that your coworker has two children. What is the probability that both are boys?"
      ]
    },
    {
      "cell_type": "code",
      "metadata": {
        "id": "5lB1CR_MssTh",
        "colab_type": "code",
        "colab": {}
      },
      "source": [
        "model = BoxModel([\"B\", \"G\"], size=2, replace=True)\n",
        "model.sim(10000).tabulate()"
      ],
      "execution_count": 0,
      "outputs": []
    },
    {
      "cell_type": "markdown",
      "metadata": {
        "id": "u6GRBkX9teso",
        "colab_type": "text"
      },
      "source": [
        "$$P(\\text{both boys}) = \\frac{1}{4}.$$"
      ]
    },
    {
      "cell_type": "markdown",
      "metadata": {
        "id": "jf4F1YukGgHj",
        "colab_type": "text"
      },
      "source": [
        "One day, she mentions to you, \"I need to stop by St. Joseph's after work for a PTA meeting.\" St. Joseph's is a local all-boys school. So now you know that she has at least one boy.\n",
        "\n",
        "To quantify how probabilities change in light of new information, we calculate the **conditional probability**.\n",
        "\n",
        "$$ P(\\text{both boys}\\ |\\ \\text{at least one boy}) $$\n",
        "\n",
        "The $|$ symbol is read \"given\" and the event after the $|$ symbol represents information that we know. "
      ]
    },
    {
      "cell_type": "markdown",
      "metadata": {
        "id": "O04F6BYAzlnX",
        "colab_type": "text"
      },
      "source": [
        "In general, to calculate a conditional probability, we use the formula:\n",
        "\n",
        "$$ P(B | A) = \\frac{P(A \\cap B)}{P(A)}. $$\n",
        "\n",
        "The $\\cap$ symbol means \"and\". (You can remember this because $\\cap$ looks like the letter \"n\", which should remind you of \"and\".) The probability $P(A \\cap B)$ is called a **joint probability**.\n",
        "\n",
        "So the conditional probability above is \n",
        "\n",
        "$$ P(\\text{both boys}\\ |\\ \\text{at least one boy}) = \\frac{P(\\text{both boys} \\cap \\text{at least one boy})}{P(\\text{at least one boy})} = \\frac{P(\\text{both boys})}{P(\\text{at least one boy})} = \\frac{1/4}{3/4} = \\frac{1}{3}. $$\n",
        "\n",
        "In the above example, the joint probability $P(\\text{both boys} \\cap \\text{at least one boy})$ is easy to calculate because the two events are redundant. If we know that both are boys, then we automatically know that at least one is a boy.\n",
        "\n",
        "The information that at least one of her children attends St. Joseph's (and, thus, is a boy) increases the probability that she has two boys from $1/4$ to $1/3$."
      ]
    },
    {
      "cell_type": "code",
      "metadata": {
        "id": "W8qskyod3BDV",
        "colab_type": "code",
        "colab": {}
      },
      "source": [
        "def at_least_one_boy(children):\n",
        "  for child in children:\n",
        "    if child == \"B\":\n",
        "      return True\n",
        "  return False\n",
        "\n",
        "model.sim(10000).filter(at_least_one_boy).tabulate()"
      ],
      "execution_count": 0,
      "outputs": []
    },
    {
      "cell_type": "markdown",
      "metadata": {
        "id": "b95qixtPHoL_",
        "colab_type": "text"
      },
      "source": [
        "# Multiplication Rule\n",
        "\n",
        "The conditional probability formula can be rearranged to produce the following formula:\n",
        "\n",
        "$$ P(A \\cap B) = P(A) P(B | A). $$ \n",
        "\n",
        "This formula is convenient when the conditional probability $P(B | A)$ is known but $P(A \\cap B)$ is not. \n",
        "\n",
        "This formula is called the **multiplication rule** because it says that we can _multiply_ probabilities to get joint probabilities."
      ]
    },
    {
      "cell_type": "markdown",
      "metadata": {
        "id": "jIIm_3MDCEb1",
        "colab_type": "text"
      },
      "source": [
        "## Applying the Multiplication Rule\n",
        "\n",
        "On an exam where every question is multiple choice with 5 answer choices, you know the correct answer to 60% of the questions. For the remaining questions, you guess one of the 5 choices at random.\n",
        "\n",
        "What is the probability a randomly chosen question is one you got right by guessing?"
      ]
    },
    {
      "cell_type": "markdown",
      "metadata": {
        "id": "jMEwQCwfTwpb",
        "colab_type": "text"
      },
      "source": [
        "\\begin{align} \n",
        "P(\\text{don't know answer} \\cap \\text{correct}) &= P(\\text{don't know answer}) P(\\text{correct}\\ |\\ \\text{don't know answer}) \\\\\n",
        "&= (1 - 0.6) \\cdot 1/5\n",
        "\\end{align}"
      ]
    },
    {
      "cell_type": "markdown",
      "metadata": {
        "id": "ZhR_w-RqUVma",
        "colab_type": "text"
      },
      "source": [
        "## Linda Example\n",
        "\n",
        "> Linda is 31 years old, single, outspoken, and very bright. She majored in philosophy. As a student, she was deeply concerned with issues of discrimination and social justice, and also participated in anti-nuclear demonstrations."
      ]
    },
    {
      "cell_type": "markdown",
      "metadata": {
        "id": "x7oSScT9VoD8",
        "colab_type": "text"
      },
      "source": [
        "Which alternative is more probable?\n",
        "\n",
        "1. Linda is a bank teller.\n",
        "2. Linda is a bank teller and is active in the feminist movement."
      ]
    },
    {
      "cell_type": "markdown",
      "metadata": {
        "id": "o-SH7BM0B1T6",
        "colab_type": "text"
      },
      "source": [
        "# Example (combining both formulas)"
      ]
    },
    {
      "cell_type": "markdown",
      "metadata": {
        "id": "k6Re61AB4jBG",
        "colab_type": "text"
      },
      "source": [
        "A fair coin is tossed 10 times. It comes up heads 5 times. What is the probability that there were exactly 2 heads in the first 4 tosses?"
      ]
    },
    {
      "cell_type": "markdown",
      "metadata": {
        "id": "CjwG3I-HB9TH",
        "colab_type": "text"
      },
      "source": [
        "\\begin{align}\n",
        "P(\\text{2 H in first 4 tosses}\\ |\\ \\text{5 H in 10 tosses}) &= \\frac{P(\\text{2 H in first 4 tosses} \\cap \\text{5 H in 10 tosses})}{P(\\text{5 H in 10 tosses})} \\\\\n",
        "&= \\frac{P(\\text{2 H in first 4 tosses}) P( \\text{5 H in 10 tosses}\\ |\\ \\text{2 H in first 4 tosses})}{P(\\text{5 H in 10 tosses})} \\\\\n",
        "&= \\frac{P(\\text{2 H in first 4 tosses}) P(\\text{3 H in last 6 tosses})}{P(\\text{5 H in 10 tosses})} \\\\\n",
        "&= \\frac{\\binom{4}{2} (.5)^2 (1-.5)^{4-2} \\cdot \\binom{6}{3} (.5)^3 (1 - .5)^{6-3}}{\\binom{10}{5} (.5)^5 (1 - .5)^{10-5}} \\\\\n",
        "&\\approx .476\n",
        "\\end{align}"
      ]
    },
    {
      "cell_type": "code",
      "metadata": {
        "id": "g_mzGK4_Hn66",
        "colab_type": "code",
        "colab": {}
      },
      "source": [
        "model = BoxModel([0, 1], size=10, replace=True)\n",
        "\n",
        "def five_heads_total(tosses):\n",
        "  return sum(tosses) == 5\n",
        "\n",
        "def heads_in_first_4_tosses(tosses):\n",
        "  return sum(tosses[:4])\n",
        "\n",
        "(model.sim(1000000)\n",
        " .filter(five_heads_total)\n",
        " .apply(heads_in_first_4_tosses)\n",
        " .tabulate()\n",
        ")"
      ],
      "execution_count": 0,
      "outputs": []
    },
    {
      "cell_type": "markdown",
      "metadata": {
        "id": "UBXfqoe6-NI_",
        "colab_type": "text"
      },
      "source": [
        "Find the _distribution_ of the number of heads in the first 4 tosses, if there are 5 heads in 10 tosses. Is this a named distribution that we learned in this class? \n",
        "\n",
        "(To do this, derive an expression for $p[x]$ in terms of $x$. Note that we essentially calculated $p[2]$ above.)"
      ]
    }
  ]
}